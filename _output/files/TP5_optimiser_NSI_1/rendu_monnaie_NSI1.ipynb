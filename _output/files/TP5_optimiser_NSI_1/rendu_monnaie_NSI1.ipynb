{
 "cells": [
  {
   "cell_type": "markdown",
   "id": "dd99e224",
   "metadata": {},
   "source": [
    "# rendu de monnaie pour caisse canonique\n",
    "> **Enoncé du problème:** Une **caisse** est consituée de billets ou de pieces de monnaies en nombre illimités.\n",
    "\n",
    "> Pour le système de caisse en euros, on représente la caisse sous la forme d'une liste commençant par la plus grande valeur de billet/piece:$$[200,100,50,20,10,5,1]$$\n",
    "\n",
    "\n",
    "> On cherche à rendre la monnaie pour une **somme** donnée de manière optimale, c'est-a-dire avec **le plus petit nombre de pieces** de monnaies (billets de banque).\n",
    "\n",
    "Tous les systèmes monaitaires actuels sont *canoniques* et permettent un rendu de monnaie optimal lorsque l'on utilise un algorithme de type division euclidienne, en commençant par rendre le billet ou la piece le (la) plus gros(se).\n",
    "\n",
    "## Exercice 1:\n",
    "Ecrire une fonction `rendu_monnaie` qui rend la somme necessaire en employant les pieces de la `caisse` dans un ordre décroissant de valeurs de pieces. Stocker et retourner le rendu de monnaie dans un dictionnaire, tel que:\n",
    "\n",
    "```python\n",
    ">>> rendu_monnaie(99,[200,100,50,20,10,5,1])\n",
    "{200: 0, 100: 0, 50: 1, 20: 2, 10: 0, 5: 1, 1: 4}\n",
    "```\n"
   ]
  },
  {
   "cell_type": "code",
   "execution_count": null,
   "id": "9fc88f11",
   "metadata": {},
   "outputs": [],
   "source": [
    "# algo optimal si ensemble canonique pour la caisse\n",
    "def rendu_monnaie(somme,caisse):\n",
    "    \"\"\"\n",
    "    somme: int\n",
    "    caisse: list [200,100,50,20,10,5,1] par exemple\n",
    "    \"\"\"\n",
    "    rendu = {i:0 for i in caisse}\n",
    "    # à completer\n",
    "    \n",
    "    return rendu"
   ]
  },
  {
   "cell_type": "code",
   "execution_count": null,
   "id": "a56764d7",
   "metadata": {},
   "outputs": [],
   "source": [
    "rendu_monnaie(99,[200,100,50,20,10,5,1])"
   ]
  },
  {
   "cell_type": "markdown",
   "id": "4aa01e05",
   "metadata": {},
   "source": [
    "## Exercice 2:\n",
    "Testez votre fonction avec un systeme monnaitaire non *canonique*, comme par exemple: $[15,10,1]$. Essayer de rendre la monnaie sur 20. Que remarquez-vous?\n"
   ]
  },
  {
   "cell_type": "code",
   "execution_count": null,
   "id": "f4dc4198",
   "metadata": {},
   "outputs": [],
   "source": [
    "# non optimal avec caisse non canonique\n",
    "# à completer\n"
   ]
  },
  {
   "cell_type": "markdown",
   "id": "24665784",
   "metadata": {},
   "source": [
    "## Exercice 3\n",
    "Completer la fonction `nombre_pieces` qui prend un dictionnaire en paramètre et fait la somme des valeurs de ce dictionnaire"
   ]
  },
  {
   "cell_type": "code",
   "execution_count": null,
   "id": "a2b3c12e",
   "metadata": {},
   "outputs": [],
   "source": [
    "# Correction\n",
    "def nombre_pieces(rendu):\n",
    "    \"\"\"ajoute les valeurs du dict\n",
    "    \"\"\"\n",
    "    s = 0\n",
    "    for val in rendu.values():\n",
    "        # à completer\n",
    "\n"
   ]
  },
  {
   "cell_type": "markdown",
   "id": "17183b44",
   "metadata": {},
   "source": [
    "On veut maintenant modifier la fonction `rendu_monnaie`. Cette fonction prend en paramètres:\n",
    "\n",
    "* `somme`: un entier, la somme à rendre\n",
    "* `caisse`: une liste constituée de la nature des pieces dans la caisse (presentée par ordre decroissant de valeur)\n",
    "\n",
    "La fonction `rendu_monnaie` retourne **maintenant** un tuple constitué:\n",
    "\n",
    "* du dictionnaire `rendu`\n",
    "* de la somme des pieces du dictionnaire `rendu`\n",
    "\n",
    "*Exemple:*\n",
    "\n",
    "```python\n",
    ">>> rendu_monnaie(20,[15,10,1])\n",
    "({15: 1, 10: 0, 1: 5}, 6)\n",
    "```\n",
    "\n",
    "> Completer le script de cette fonction"
   ]
  },
  {
   "cell_type": "code",
   "execution_count": null,
   "id": "f556ab54",
   "metadata": {},
   "outputs": [],
   "source": [
    "def rendu_monnaie(somme,caisse):\n",
    "    \"\"\"\n",
    "    somme: int\n",
    "    caisse: list [200,100,50,20,10,5,1] par exemple\n",
    "    :return rendu: dict\n",
    "    :return nombre_pieces: int\n",
    "    \"\"\"\n",
    "    rendu = {i:0 for i in caisse}\n",
    "    i = 0\n",
    "    while somme != 0:\n",
    "        if caisse[i]<=somme:\n",
    "            somme -= caisse[i]\n",
    "            rendu[caisse[i]] += 1\n",
    "        else:\n",
    "            i += 1\n",
    "    # à completer\n"
   ]
  },
  {
   "cell_type": "code",
   "execution_count": null,
   "id": "b7c41355",
   "metadata": {},
   "outputs": [],
   "source": [
    "rendu_monnaie(20,[15,10,1])"
   ]
  },
  {
   "cell_type": "markdown",
   "id": "fa4fbdb2",
   "metadata": {},
   "source": [
    "# Rendu de monnaie pour une caisse non canonique\n",
    "On donne une fonction `shuffle` qui prend en paramètre une liste d'entiers, et retourne une liste avec toutes les combinaisons possibles sur ces entiers:"
   ]
  },
  {
   "cell_type": "code",
   "execution_count": null,
   "id": "96848a92",
   "metadata": {},
   "outputs": [],
   "source": [
    "import itertools\n",
    "\n",
    "def shuffle(inp_list):\n",
    "    liste_shuffle = list(itertools.permutations(inp_list))\n",
    "    return liste_shuffle "
   ]
  },
  {
   "cell_type": "code",
   "execution_count": null,
   "id": "bd6c8c09",
   "metadata": {},
   "outputs": [],
   "source": [
    "inp_list = [4, 5, 6]\n",
    "shuffle(inp_list)"
   ]
  },
  {
   "cell_type": "markdown",
   "id": "26a50bb2",
   "metadata": {},
   "source": [
    "## Exercice 4\n",
    "Completer la fonction `rendu_optimal` qui prendra en paramètres:\n",
    "\n",
    "* `somme`: un entier, la somme à rendre\n",
    "* `caisse`: une liste constituée de la nature des pieces dans la caisse (presentée par ordre decroissant de valeur)\n",
    "\n",
    "Cette fonction `rendu_optimal` va retourner le dictionnaire `solution_optimale`, retenue après des essais sur toutes les combinaisons de caisses possibles.\n",
    "\n",
    "Cette fonction `rendu_optimal` suivra l'algorithme suivant:\n",
    "\n",
    "\n",
    "* pour chaque systeme de caisse obtenu par permutation de la caisse placée en argument: \n",
    "    * appeler la fonction `rendu_monnaie`\n",
    "    * stocker le dictionnaire retourné dans `r` et le nombre de pieces rendues dans `temp`\n",
    "    * comparer la valeur du nombre de pieces `temp` avec la valeur optimale actuelle `min`\n",
    "    * si `temp < min` alors on a trouvé une solution optimale et on stocke le dictionnaire `r` du rendu de monnaie dans `solution_optimale`\n",
    "    \n",
    "*Exemple:*\n",
    "\n",
    "```python\n",
    ">>> rendu_optimal(5,[4,3,1])\n",
    "{4: 1, 3: 0, 1: 1}\n",
    "```"
   ]
  },
  {
   "cell_type": "code",
   "execution_count": null,
   "id": "c43ae2fa",
   "metadata": {},
   "outputs": [],
   "source": [
    "# un algo de rendu de monnaie non efficace (complexite elevée)\n",
    "def rendu_optimal(somme,caisse):\n",
    "    \"\"\"\n",
    "    rendu de monnaie avec essais sur toutes les combinaisons\n",
    "    de caisses possible\"\"\"\n",
    "    liste_caisses = shuffle(caisse)\n",
    "    min = somme # on prend une valeur la plus grande possible pour le nombre de pieces rendues\n",
    "    for caisse_test in liste_caisses:\n",
    "        r,temp = rendu_monnaie(somme,caisse_test)\n",
    "        # à completer\n"
   ]
  },
  {
   "cell_type": "code",
   "execution_count": null,
   "id": "b9ce7ffd",
   "metadata": {},
   "outputs": [],
   "source": [
    "rendu_optimal(5,[4,3,1])"
   ]
  },
  {
   "cell_type": "markdown",
   "id": "26010807",
   "metadata": {},
   "source": [
    "## Exercice 5\n",
    "Comment rendre la monnaie de maniere optimale sur 20 euros avec une caisse $[15,10,1]$?"
   ]
  },
  {
   "cell_type": "code",
   "execution_count": null,
   "id": "eb49c0f8",
   "metadata": {},
   "outputs": [],
   "source": [
    "# à completer"
   ]
  }
 ],
 "metadata": {
  "kernelspec": {
   "display_name": "Python 3",
   "language": "python",
   "name": "python3"
  },
  "language_info": {
   "codemirror_mode": {
    "name": "ipython",
    "version": 3
   },
   "file_extension": ".py",
   "mimetype": "text/x-python",
   "name": "python",
   "nbconvert_exporter": "python",
   "pygments_lexer": "ipython3",
   "version": "3.7.9"
  }
 },
 "nbformat": 4,
 "nbformat_minor": 5
}
