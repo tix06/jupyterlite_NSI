{
 "cells": [
  {
   "cell_type": "markdown",
   "metadata": {},
   "source": [
    "# Analyse de données\n",
    "## Tutorial sur l'implémentation de régression linéaire\n",
    "\n",
    "Ce Notebook est une implémentation de la régression régression linéaire sur un jeu de données factice. Il sert comme support au cours à la page [allophysique.com//docs/NSI_1/algo/page1/](allophysique.com//docs/NSI_1/algo/page1/)"
   ]
  },
  {
   "cell_type": "markdown",
   "metadata": {},
   "source": [
    "### Chargement des diverses librairies utiles pour ce notebook "
   ]
  },
  {
   "cell_type": "code",
   "execution_count": null,
   "metadata": {},
   "outputs": [],
   "source": [
    "# chargement de bibliothéques \n",
    "\"\"\"\n",
    "instruction specifique pour utiliser matplotlib dans un notebook \n",
    "quand on utilise les notebooks Jupyter pour utiliser Matplotlib\n",
    "\"\"\"\n",
    "%matplotlib inline  \n",
    "import pandas as pd\n",
    "import matplotlib.pyplot as plt\n",
    "from scipy import stats"
   ]
  },
  {
   "cell_type": "markdown",
   "metadata": {},
   "source": [
    "## Chargement du jeu de données\n",
    "On met le tableau dans un *Dataframe* et on l'observe. Les données de population sont exprimées en 10 000 habitants et celles du profit en 10 000 USD"
   ]
  },
  {
   "cell_type": "code",
   "execution_count": null,
   "metadata": {},
   "outputs": [],
   "source": [
    "# Version Jupyterlite\n",
    "import pandas as pd  # on importe la librairie pandas \n",
    "from js import fetch\n",
    "\n",
    "URL = \"https://raw.githubusercontent.com/tix06/jupyterlite_NSI/master/files/datas/datas_trucks.csv\"\n",
    "\n",
    "res = await fetch(URL)\n",
    "text = await res.text()\n",
    "\n",
    "filename = 'datas_trucks.csv'\n",
    "\n",
    "with open(filename, 'w') as f:\n",
    "    f.write(text)\n",
    "\n",
    "df = pd.read_csv(filename, sep=';')"
   ]
  },
  {
   "cell_type": "code",
   "execution_count": null,
   "metadata": {
    "scrolled": false
   },
   "outputs": [],
   "source": [
    "df"
   ]
  },
  {
   "cell_type": "markdown",
   "metadata": {},
   "source": [
    "## Creation des listes population, profit et trucks"
   ]
  },
  {
   "cell_type": "code",
   "execution_count": null,
   "metadata": {},
   "outputs": [],
   "source": [
    "X = df['population']\n",
    "Y = df['profit']\n",
    "Z = df['trucks']"
   ]
  },
  {
   "cell_type": "markdown",
   "metadata": {},
   "source": [
    "## Visualisation du jeu de données\n",
    "Recherche des **correlations entre X, Y et Z**"
   ]
  },
  {
   "cell_type": "code",
   "execution_count": null,
   "metadata": {
    "scrolled": true
   },
   "outputs": [],
   "source": [
    "# Correlation X, Y\n",
    "axes = plt.axes()\n",
    "axes.grid()\n",
    "plt.title(\"profit - population\")\n",
    "plt.xlabel(\"X\")\n",
    "plt.ylabel(\"Y\")\n",
    "plt.scatter(X,Y)\n",
    "plt.show()"
   ]
  },
  {
   "cell_type": "code",
   "execution_count": null,
   "metadata": {},
   "outputs": [],
   "source": [
    "# Correlation X, Z\n",
    "plt.clf()\n",
    "axes = plt.axes()\n",
    "axes.grid()\n",
    "# à completer\n"
   ]
  },
  {
   "cell_type": "code",
   "execution_count": null,
   "metadata": {},
   "outputs": [],
   "source": [
    "# Correlation Z, Y\n",
    "plt.clf()\n",
    "axes = plt.axes()\n",
    "axes.grid()\n",
    "# à completer\n"
   ]
  },
  {
   "cell_type": "markdown",
   "metadata": {},
   "source": [
    "### régression linéaire\n"
   ]
  },
  {
   "cell_type": "markdown",
   "metadata": {},
   "source": [
    "On peut utiliser le module librairie SciPy (Scientific Python) pour implémenter une régression linéaire. Le sous package stats propose la fonction linregress qui calcule une régression à partir d'un jeu de donnée d'entrainement "
   ]
  },
  {
   "cell_type": "code",
   "execution_count": null,
   "metadata": {},
   "outputs": [],
   "source": [
    "slope, intercept, r_value, p_value, std_err = stats.linregress(X, Y)\n",
    "slope, intercept, r_value"
   ]
  },
  {
   "cell_type": "markdown",
   "metadata": {},
   "source": [
    "### Modèle obtenu\n",
    "\n",
    "Le fonction de prédiction pour une régression linéaire a pour équation :\n",
    "\n",
    "\n",
    "\\begin{align}\n",
    "H(x) = intercept + slope * x\n",
    "\\end{align}\n",
    "\n",
    "avec :\n",
    "* $slope$ : représente la **pente** de la courbe modélisée (la fonction de prédiction) \n",
    "* $intercept$ : représente l'**ordonnée à l'orgine** (le point d'intersection avec l'axe des ordonnées)\n",
    "* $r_value$: le **coefficient de correlation**\n",
    "    * Une valeur proche de 1 signifie qu'il y a une bonne correlatoin entre les grandeurs, et que l'on peut considérer le modèle comme valide.\n",
    "    * Une faible valeur (inf à 0.8 par exemple) signifie que les grandeurs ne sont pas vraiment correlées.\n",
    "    \n",
    "Ainsi notre fonction $H(X)$ se décrit comme suit : \n",
    "\n",
    "\\begin{align}\n",
    "H(X) = -4.211504005424089 + 1.2135472539083585 * X\\\\\n",
    "r = 0.837873232526341\n",
    "\\end{align}\n",
    "\n",
    "\n",
    "### Regression linéaire sur X - Z\n",
    "calculer les coefficients de regression pour Z = f(X)"
   ]
  },
  {
   "cell_type": "code",
   "execution_count": null,
   "metadata": {},
   "outputs": [],
   "source": [
    "# à completer\n"
   ]
  },
  {
   "cell_type": "markdown",
   "metadata": {},
   "source": [
    "### Regression linéaire sur Z - Y\n",
    "calculer les coefficients de regression pour Y = f(Z)"
   ]
  },
  {
   "cell_type": "code",
   "execution_count": null,
   "metadata": {},
   "outputs": [],
   "source": [
    "# à completer\n"
   ]
  },
  {
   "cell_type": "markdown",
   "metadata": {},
   "source": [
    "## Ecriture de la fonction de prédiction avec Python\n",
    "\n",
    "Vu qu'on dispose de notre fonction des coefficients de notre fonction de prédiction, on peut écrire celle-ci en python. \n",
    "\n",
    "> Compléter la fonction `H` pour que celle-ci renvoie la valeur calculée H(X) à l'aide des coefficients calculée `slope` et `intercept`"
   ]
  },
  {
   "cell_type": "code",
   "execution_count": null,
   "metadata": {},
   "outputs": [],
   "source": [
    "def H(x, slope, intercept):\n",
    "    # à completer\n"
   ]
  },
  {
   "cell_type": "markdown",
   "metadata": {},
   "source": [
    "## Dessiner la fonction de prédiction \n",
    "\n",
    "On peut utiliser la fonction de prédiction qu'on vient de définir pour avoir la valeur prédite par la fonction hypothèse pour chacune des observations de notre jeu d'entrainement. Ainsi on pourra voir visuellement comment la fonction de prédiction \"approche\" le jeu d'entrainement."
   ]
  },
  {
   "cell_type": "code",
   "execution_count": null,
   "metadata": {},
   "outputs": [],
   "source": [
    "slope, intercept, r_value, p_value, std_err = stats.linregress(X, Y)\n",
    "\n",
    "axes = plt.axes()\n",
    "axes.grid()\n",
    "plt.scatter(X,Y)\n",
    "fitLine = H(X,slope, intercept)\n",
    "plt.plot(X, fitLine, c='r')\n",
    "plt.show()"
   ]
  },
  {
   "cell_type": "markdown",
   "metadata": {},
   "source": [
    "## Prédiction d'une nouvelle observation\n",
    "\n",
    "On voit que pour pour la valeur x = 11.7, la valeur de y est environ 25. Utilisons la fonction `H` pour trouver une estimation de `H(x = 11.7)`"
   ]
  },
  {
   "cell_type": "code",
   "execution_count": null,
   "metadata": {},
   "outputs": [],
   "source": [
    "H(11.7,slope,intercept)"
   ]
  },
  {
   "cell_type": "markdown",
   "metadata": {},
   "source": [
    "### Calculer l'écart avec la valeur du tableau\n",
    "filtrer le tableau selon la valeur `filtre = df['population'] == 11.7` et afficher la ligne *Dataframe df* correspondante."
   ]
  },
  {
   "cell_type": "code",
   "execution_count": null,
   "metadata": {},
   "outputs": [],
   "source": [
    "# à completer\n"
   ]
  },
  {
   "cell_type": "markdown",
   "metadata": {},
   "source": [
    "### Calculer alors l'écart constaté avec la prédiction"
   ]
  },
  {
   "cell_type": "code",
   "execution_count": null,
   "metadata": {},
   "outputs": [],
   "source": [
    "# à completer"
   ]
  },
  {
   "cell_type": "markdown",
   "metadata": {},
   "source": [
    "### La partie de la courbe pour laquelle la population est comprise entre 15 et 20 est vide de points. Calculer l'une de ces valeurs avec la fonction `H`"
   ]
  },
  {
   "cell_type": "code",
   "execution_count": null,
   "metadata": {},
   "outputs": [],
   "source": [
    "# à completer"
   ]
  },
  {
   "cell_type": "markdown",
   "metadata": {},
   "source": [
    "## Profit relatif au nombre de trucks-food\n",
    "On peut rechercher également quel est le *profit relatif* au nombre de trucks-food déjà present dans une ville.\n",
    "\n",
    "Créer une nouvelle colonne dans le *Dataframe* avec:\n",
    "\n",
    "```python\n",
    "df['profil_rel'] = df['profit']*10000 / df['trucks'] \n",
    "```"
   ]
  },
  {
   "cell_type": "code",
   "execution_count": null,
   "metadata": {},
   "outputs": [],
   "source": [
    "# à completer\n"
   ]
  },
  {
   "cell_type": "markdown",
   "metadata": {},
   "source": [
    "### Graphique `profit-rel` \n",
    "visualiser l'eventuelle correlation entre le *profit relatif* et l'une des données du tableau"
   ]
  },
  {
   "cell_type": "code",
   "execution_count": null,
   "metadata": {},
   "outputs": [],
   "source": [
    "# à completer"
   ]
  },
  {
   "cell_type": "markdown",
   "metadata": {},
   "source": [
    "## Trier les données du *Dataframe* selon la colonne *profit_rel*\n",
    "Et retrouver ainsi le meilleur emplacement\n",
    "\n",
    "La fonction de tri sur un *Dataframe* a été vue dans `TP4/datas_analyse_pandas.ipynb` ainsi que dans `TP1/sequence2.ipynb`"
   ]
  },
  {
   "cell_type": "code",
   "execution_count": null,
   "metadata": {},
   "outputs": [],
   "source": []
  },
  {
   "cell_type": "code",
   "execution_count": null,
   "metadata": {},
   "outputs": [],
   "source": []
  }
 ],
 "metadata": {
  "celltoolbar": "Aucun(e)",
  "kernelspec": {
   "display_name": "Python 3",
   "language": "python",
   "name": "python3"
  },
  "language_info": {
   "codemirror_mode": {
    "name": "ipython",
    "version": 3
   },
   "file_extension": ".py",
   "mimetype": "text/x-python",
   "name": "python",
   "nbconvert_exporter": "python",
   "pygments_lexer": "ipython3",
   "version": "3.7.9"
  }
 },
 "nbformat": 4,
 "nbformat_minor": 1
}
