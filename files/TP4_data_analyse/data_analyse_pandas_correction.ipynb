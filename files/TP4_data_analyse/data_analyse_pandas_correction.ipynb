{
 "cells": [
  {
   "cell_type": "markdown",
   "metadata": {},
   "source": [
    "# Partie 1: Base de données CINEMA\n",
    "## 1. Structure de données en dictionnaire\n",
    "### A. Explorer la table\n",
    "Un cinéma tient une base de données sur les films et salles de projection."
   ]
  },
  {
   "cell_type": "code",
   "execution_count": 2,
   "metadata": {},
   "outputs": [],
   "source": [
    "tableaufilms =  [\n",
    "    {'titre':'la rage aux poings', 'realisateur':'Eric le Hung', 'annee': 1975}, # film projeté dans la salle 1\n",
    "    {'titre':'le million' , 'realisateur':'René Clair', 'annee':1931}, # dans la salle 2\n",
    "    {'titre':'Rendez vous à Badenberg', 'realisateur':'René Meurice','annee':1970}, # dans la salle 3\n",
    "    {'titre':'Le cercle rouge',  'realisateur':'Jean-Pierre Melville','annee':1970}, # dans la salle 4\n",
    "]\n",
    "tableausalles = [{\"salle\": 2, 'horaire': '15h00', 'titre':'le million'},\n",
    "                {\"salle\": 1, 'horaire': '18h00', 'titre':'la rage aux poings'},\n",
    "                {\"salle\": 4, 'horaire': '18h05', 'titre':'Le cercle rouge'},\n",
    "                {\"salle\": 3, 'horaire': '21h00', 'titre':'Rendez vous à Badenberg'},\n",
    "                ]"
   ]
  },
  {
   "cell_type": "markdown",
   "metadata": {},
   "source": [
    "A partir de vos connaissances (voir fiche 4: dictionnaires), vous allez explorer les données pour chacune de ces tables.\n",
    "\n",
    "**Question 1.a:** Compléter l'instruction qui affiche: \n",
    "\n",
    "```\n",
    "{\"salle\": 2, 'horaire': '15h00', 'titre':'le million'}\n",
    "```\n",
    "\n"
   ]
  },
  {
   "cell_type": "code",
   "execution_count": 3,
   "metadata": {},
   "outputs": [
    {
     "data": {
      "text/plain": [
       "{'salle': 2, 'horaire': '15h00', 'titre': 'le million'}"
      ]
     },
     "execution_count": 3,
     "metadata": {},
     "output_type": "execute_result"
    }
   ],
   "source": [
    "# correction\n",
    "tableausalles[0]"
   ]
  },
  {
   "cell_type": "markdown",
   "metadata": {},
   "source": [
    "**Question 1.b:**  Saisir l'instruction qui affiche le titre du film de ce dictionnaire:"
   ]
  },
  {
   "cell_type": "code",
   "execution_count": 4,
   "metadata": {},
   "outputs": [
    {
     "data": {
      "text/plain": [
       "'le million'"
      ]
     },
     "execution_count": 4,
     "metadata": {},
     "output_type": "execute_result"
    }
   ],
   "source": [
    "# correction\n",
    "tableausalles[0]['titre']"
   ]
  },
  {
   "cell_type": "markdown",
   "metadata": {},
   "source": [
    "**Question 2.a:** Saisir l'instruction qui affiche:\n",
    "\n",
    "```\n",
    "{'titre':'le million' , 'realisateur':'René Clair', 'annee':1931}\n",
    "```\n"
   ]
  },
  {
   "cell_type": "code",
   "execution_count": 6,
   "metadata": {},
   "outputs": [
    {
     "data": {
      "text/plain": [
       "{'titre': 'le million', 'realisateur': 'René Clair', 'annee': 1931}"
      ]
     },
     "execution_count": 6,
     "metadata": {},
     "output_type": "execute_result"
    }
   ],
   "source": [
    "# correction\n",
    "tableaufilms[1]"
   ]
  },
  {
   "cell_type": "markdown",
   "metadata": {},
   "source": [
    "**Question 2.b:**  Saisir l'instruction qui affiche l'année de parution du film *'le million'*"
   ]
  },
  {
   "cell_type": "code",
   "execution_count": 7,
   "metadata": {},
   "outputs": [
    {
     "data": {
      "text/plain": [
       "1931"
      ]
     },
     "execution_count": 7,
     "metadata": {},
     "output_type": "execute_result"
    }
   ],
   "source": [
    "# correction\n",
    "tableaufilms[1]['annee']"
   ]
  },
  {
   "cell_type": "markdown",
   "metadata": {},
   "source": [
    "**Question 2.c:** Saisir l'instruction qui affiche le titre du premier élément de `tableaufilms` "
   ]
  },
  {
   "cell_type": "code",
   "execution_count": 8,
   "metadata": {},
   "outputs": [
    {
     "data": {
      "text/plain": [
       "'la rage aux poings'"
      ]
     },
     "execution_count": 8,
     "metadata": {},
     "output_type": "execute_result"
    }
   ],
   "source": [
    "# correction\n",
    "tableaufilms[0]['titre']"
   ]
  },
  {
   "cell_type": "markdown",
   "metadata": {},
   "source": [
    "### B. SELECTION dans une table\n",
    "Vu sur <a href=\"allophysique.com/docs/NSI_1/sequences/page3/#opérations-sur-les-tables\" target =_blank>allophysique.com > NSI_1 > cours sur les données en table</a>:\n",
    "\n",
    "On peut réaliser une selection dans une table en créant une liste par comprehension selon la méthode:\n",
    "\n",
    "```python\n",
    "[ligne for ligne in table if test(ligne, titre)]\n",
    "```\n",
    "\n",
    "**Question 3:** Completer le script de la fonction `test` pour rechercher dans la table `tableaufilms` les informations sur le(s) film(s) dont le titre est *'la rage aux poings'*."
   ]
  },
  {
   "cell_type": "code",
   "execution_count": 9,
   "metadata": {},
   "outputs": [
    {
     "data": {
      "text/plain": [
       "[{'titre': 'la rage aux poings', 'realisateur': 'Eric le Hung', 'annee': 1975}]"
      ]
     },
     "execution_count": 9,
     "metadata": {},
     "output_type": "execute_result"
    }
   ],
   "source": [
    "# correction\n",
    "def test(t,titre):\n",
    "    return t['titre'] == titre\n",
    "    \n",
    "[ligne for ligne in tableaufilms if test(ligne, 'la rage aux poings')]"
   ]
  },
  {
   "cell_type": "markdown",
   "metadata": {},
   "source": [
    "## 2. Utiliser la librairie Pandas\n",
    "### A. Explorer un Dataframe\n",
    "On va voir maintenant ce qu’apporte la représentation des données avec la librairie Pandas.\n",
    "\n",
    "Avec la librairie pandas, les données sont maintenant mises dans un **Dataframe**. Celui-ci permet dans un premier temps de *présenter plus facilement* le contenu. Le *dataframe* est une sorte de tableau, de la même forme que le tableau d'origine, mais qui vient avec de nombreuses méthodes qui vous seront utiles.\n",
    "\n",
    "Testez les lignes suivantes et appréciez la présentation des données avec le *dataframe* `tableaufilms_df`:"
   ]
  },
  {
   "cell_type": "code",
   "execution_count": 10,
   "metadata": {},
   "outputs": [
    {
     "data": {
      "text/html": [
       "<div>\n",
       "<style scoped>\n",
       "    .dataframe tbody tr th:only-of-type {\n",
       "        vertical-align: middle;\n",
       "    }\n",
       "\n",
       "    .dataframe tbody tr th {\n",
       "        vertical-align: top;\n",
       "    }\n",
       "\n",
       "    .dataframe thead th {\n",
       "        text-align: right;\n",
       "    }\n",
       "</style>\n",
       "<table border=\"1\" class=\"dataframe\">\n",
       "  <thead>\n",
       "    <tr style=\"text-align: right;\">\n",
       "      <th></th>\n",
       "      <th>titre</th>\n",
       "      <th>realisateur</th>\n",
       "      <th>annee</th>\n",
       "    </tr>\n",
       "  </thead>\n",
       "  <tbody>\n",
       "    <tr>\n",
       "      <th>0</th>\n",
       "      <td>la rage aux poings</td>\n",
       "      <td>Eric le Hung</td>\n",
       "      <td>1975</td>\n",
       "    </tr>\n",
       "    <tr>\n",
       "      <th>1</th>\n",
       "      <td>le million</td>\n",
       "      <td>René Clair</td>\n",
       "      <td>1931</td>\n",
       "    </tr>\n",
       "    <tr>\n",
       "      <th>2</th>\n",
       "      <td>Rendez vous à Badenberg</td>\n",
       "      <td>René Meurice</td>\n",
       "      <td>1970</td>\n",
       "    </tr>\n",
       "    <tr>\n",
       "      <th>3</th>\n",
       "      <td>Le cercle rouge</td>\n",
       "      <td>Jean-Pierre Melville</td>\n",
       "      <td>1970</td>\n",
       "    </tr>\n",
       "  </tbody>\n",
       "</table>\n",
       "</div>"
      ],
      "text/plain": [
       "                     titre           realisateur  annee\n",
       "0       la rage aux poings          Eric le Hung   1975\n",
       "1               le million            René Clair   1931\n",
       "2  Rendez vous à Badenberg          René Meurice   1970\n",
       "3          Le cercle rouge  Jean-Pierre Melville   1970"
      ]
     },
     "execution_count": 10,
     "metadata": {},
     "output_type": "execute_result"
    }
   ],
   "source": [
    "import pandas as pd  # on importe la librairie pandas \n",
    "# patience ... le premier import peut etre long :-(\n",
    "\n",
    "# creation d'un dataframe a partir de tableaufilms\n",
    "tableaufilms_df = pd.DataFrame(tableaufilms)\n",
    "tableaufilms_df"
   ]
  },
  {
   "cell_type": "code",
   "execution_count": 11,
   "metadata": {},
   "outputs": [
    {
     "data": {
      "text/html": [
       "<div>\n",
       "<style scoped>\n",
       "    .dataframe tbody tr th:only-of-type {\n",
       "        vertical-align: middle;\n",
       "    }\n",
       "\n",
       "    .dataframe tbody tr th {\n",
       "        vertical-align: top;\n",
       "    }\n",
       "\n",
       "    .dataframe thead th {\n",
       "        text-align: right;\n",
       "    }\n",
       "</style>\n",
       "<table border=\"1\" class=\"dataframe\">\n",
       "  <thead>\n",
       "    <tr style=\"text-align: right;\">\n",
       "      <th></th>\n",
       "      <th>salle</th>\n",
       "      <th>horaire</th>\n",
       "      <th>titre</th>\n",
       "    </tr>\n",
       "  </thead>\n",
       "  <tbody>\n",
       "    <tr>\n",
       "      <th>0</th>\n",
       "      <td>2</td>\n",
       "      <td>15h00</td>\n",
       "      <td>le million</td>\n",
       "    </tr>\n",
       "    <tr>\n",
       "      <th>1</th>\n",
       "      <td>1</td>\n",
       "      <td>18h00</td>\n",
       "      <td>la rage aux poings</td>\n",
       "    </tr>\n",
       "    <tr>\n",
       "      <th>2</th>\n",
       "      <td>4</td>\n",
       "      <td>18h05</td>\n",
       "      <td>Le cercle rouge</td>\n",
       "    </tr>\n",
       "    <tr>\n",
       "      <th>3</th>\n",
       "      <td>3</td>\n",
       "      <td>21h00</td>\n",
       "      <td>Rendez vous à Badenberg</td>\n",
       "    </tr>\n",
       "  </tbody>\n",
       "</table>\n",
       "</div>"
      ],
      "text/plain": [
       "   salle horaire                    titre\n",
       "0      2   15h00               le million\n",
       "1      1   18h00       la rage aux poings\n",
       "2      4   18h05          Le cercle rouge\n",
       "3      3   21h00  Rendez vous à Badenberg"
      ]
     },
     "execution_count": 11,
     "metadata": {},
     "output_type": "execute_result"
    }
   ],
   "source": [
    "# creation d'un dataframe a partir de tableausalles\n",
    "tableausalles_df = pd.DataFrame(tableausalles)\n",
    "tableausalles_df"
   ]
  },
  {
   "cell_type": "markdown",
   "metadata": {},
   "source": [
    "On voit que le *dataframe* affiche les **clés** du dictionnaire (les *descripteurs* de la table). Et que le *dataframe* possède un **index** (la valeur numérique en début de ligne).\n",
    "\n",
    "On peut maintenant afficher la premiere ligne de `tableausalles_df`. C'est celle d'**index 0**. La syntaxe ressemble à celle vue pour les liste, mais on utilise ici des doubles crochets `[[]]`:"
   ]
  },
  {
   "cell_type": "code",
   "execution_count": 12,
   "metadata": {},
   "outputs": [
    {
     "data": {
      "text/html": [
       "<div>\n",
       "<style scoped>\n",
       "    .dataframe tbody tr th:only-of-type {\n",
       "        vertical-align: middle;\n",
       "    }\n",
       "\n",
       "    .dataframe tbody tr th {\n",
       "        vertical-align: top;\n",
       "    }\n",
       "\n",
       "    .dataframe thead th {\n",
       "        text-align: right;\n",
       "    }\n",
       "</style>\n",
       "<table border=\"1\" class=\"dataframe\">\n",
       "  <thead>\n",
       "    <tr style=\"text-align: right;\">\n",
       "      <th></th>\n",
       "      <th>salle</th>\n",
       "      <th>horaire</th>\n",
       "      <th>titre</th>\n",
       "    </tr>\n",
       "  </thead>\n",
       "  <tbody>\n",
       "    <tr>\n",
       "      <th>0</th>\n",
       "      <td>2</td>\n",
       "      <td>15h00</td>\n",
       "      <td>le million</td>\n",
       "    </tr>\n",
       "  </tbody>\n",
       "</table>\n",
       "</div>"
      ],
      "text/plain": [
       "   salle horaire       titre\n",
       "0      2   15h00  le million"
      ]
     },
     "execution_count": 12,
     "metadata": {},
     "output_type": "execute_result"
    }
   ],
   "source": [
    "tableausalles_df.iloc[[0]]"
   ]
  },
  {
   "cell_type": "markdown",
   "metadata": {},
   "source": [
    "Maintenant, pour accéder à l'une des données de la ligne, on fait une PROJECTION sur cette table, en ne conservant que la ligne `titre`:"
   ]
  },
  {
   "cell_type": "code",
   "execution_count": 13,
   "metadata": {},
   "outputs": [
    {
     "data": {
      "text/html": [
       "<div>\n",
       "<style scoped>\n",
       "    .dataframe tbody tr th:only-of-type {\n",
       "        vertical-align: middle;\n",
       "    }\n",
       "\n",
       "    .dataframe tbody tr th {\n",
       "        vertical-align: top;\n",
       "    }\n",
       "\n",
       "    .dataframe thead th {\n",
       "        text-align: right;\n",
       "    }\n",
       "</style>\n",
       "<table border=\"1\" class=\"dataframe\">\n",
       "  <thead>\n",
       "    <tr style=\"text-align: right;\">\n",
       "      <th></th>\n",
       "      <th>titre</th>\n",
       "    </tr>\n",
       "  </thead>\n",
       "  <tbody>\n",
       "    <tr>\n",
       "      <th>0</th>\n",
       "      <td>le million</td>\n",
       "    </tr>\n",
       "  </tbody>\n",
       "</table>\n",
       "</div>"
      ],
      "text/plain": [
       "        titre\n",
       "0  le million"
      ]
     },
     "execution_count": 13,
     "metadata": {},
     "output_type": "execute_result"
    }
   ],
   "source": [
    "tableausalles_df.iloc[[0]][['titre']]"
   ]
  },
  {
   "cell_type": "markdown",
   "metadata": {},
   "source": [
    "**Question 4:** Pour `tableaufilms_df`, rechercher le realisateur du film à l'index 1"
   ]
  },
  {
   "cell_type": "code",
   "execution_count": 15,
   "metadata": {},
   "outputs": [
    {
     "data": {
      "text/html": [
       "<div>\n",
       "<style scoped>\n",
       "    .dataframe tbody tr th:only-of-type {\n",
       "        vertical-align: middle;\n",
       "    }\n",
       "\n",
       "    .dataframe tbody tr th {\n",
       "        vertical-align: top;\n",
       "    }\n",
       "\n",
       "    .dataframe thead th {\n",
       "        text-align: right;\n",
       "    }\n",
       "</style>\n",
       "<table border=\"1\" class=\"dataframe\">\n",
       "  <thead>\n",
       "    <tr style=\"text-align: right;\">\n",
       "      <th></th>\n",
       "      <th>realisateur</th>\n",
       "    </tr>\n",
       "  </thead>\n",
       "  <tbody>\n",
       "    <tr>\n",
       "      <th>1</th>\n",
       "      <td>René Clair</td>\n",
       "    </tr>\n",
       "  </tbody>\n",
       "</table>\n",
       "</div>"
      ],
      "text/plain": [
       "  realisateur\n",
       "1  René Clair"
      ]
     },
     "execution_count": 15,
     "metadata": {},
     "output_type": "execute_result"
    }
   ],
   "source": [
    "# correction\n",
    "tableaufilms_df.iloc[[1]][['realisateur']]"
   ]
  },
  {
   "cell_type": "markdown",
   "metadata": {},
   "source": [
    "### Opération de SELECTION sur un Dataframe\n",
    "Pour **selectionner** une ou plusieurs lignes selon un *critere*, on écrit une *expression conditionnelle*. \n",
    "\n",
    "Par exemple, selectionner le(s) film(s) dont le titre est *'la rage aux poings'*, on écrit:\n",
    "\n",
    "```python\n",
    "tableaufilms_df['titre'] == 'la rage aux poings'\n",
    "```\n"
   ]
  },
  {
   "cell_type": "code",
   "execution_count": 16,
   "metadata": {},
   "outputs": [
    {
     "data": {
      "text/plain": [
       "0     True\n",
       "1    False\n",
       "2    False\n",
       "3    False\n",
       "Name: titre, dtype: bool"
      ]
     },
     "execution_count": 16,
     "metadata": {},
     "output_type": "execute_result"
    }
   ],
   "source": [
    "filtre = tableaufilms_df['titre'] == 'la rage aux poings'\n",
    "filtre"
   ]
  },
  {
   "cell_type": "markdown",
   "metadata": {},
   "source": [
    "Puis, pour afficher les informations du film dont le titre est *'la rage aux poings'*, on créé un nouveau *Dataframe*:"
   ]
  },
  {
   "cell_type": "code",
   "execution_count": 17,
   "metadata": {},
   "outputs": [
    {
     "data": {
      "text/html": [
       "<div>\n",
       "<style scoped>\n",
       "    .dataframe tbody tr th:only-of-type {\n",
       "        vertical-align: middle;\n",
       "    }\n",
       "\n",
       "    .dataframe tbody tr th {\n",
       "        vertical-align: top;\n",
       "    }\n",
       "\n",
       "    .dataframe thead th {\n",
       "        text-align: right;\n",
       "    }\n",
       "</style>\n",
       "<table border=\"1\" class=\"dataframe\">\n",
       "  <thead>\n",
       "    <tr style=\"text-align: right;\">\n",
       "      <th></th>\n",
       "      <th>titre</th>\n",
       "      <th>realisateur</th>\n",
       "      <th>annee</th>\n",
       "    </tr>\n",
       "  </thead>\n",
       "  <tbody>\n",
       "    <tr>\n",
       "      <th>0</th>\n",
       "      <td>la rage aux poings</td>\n",
       "      <td>Eric le Hung</td>\n",
       "      <td>1975</td>\n",
       "    </tr>\n",
       "  </tbody>\n",
       "</table>\n",
       "</div>"
      ],
      "text/plain": [
       "                titre   realisateur  annee\n",
       "0  la rage aux poings  Eric le Hung   1975"
      ]
     },
     "execution_count": 17,
     "metadata": {},
     "output_type": "execute_result"
    }
   ],
   "source": [
    "tableaufilms_df[filtre]"
   ]
  },
  {
   "cell_type": "markdown",
   "metadata": {},
   "source": [
    "**Question 5:** Rechercher les informations sur les films dont l'année de sortie est avant 1972"
   ]
  },
  {
   "cell_type": "code",
   "execution_count": 20,
   "metadata": {},
   "outputs": [
    {
     "data": {
      "text/html": [
       "<div>\n",
       "<style scoped>\n",
       "    .dataframe tbody tr th:only-of-type {\n",
       "        vertical-align: middle;\n",
       "    }\n",
       "\n",
       "    .dataframe tbody tr th {\n",
       "        vertical-align: top;\n",
       "    }\n",
       "\n",
       "    .dataframe thead th {\n",
       "        text-align: right;\n",
       "    }\n",
       "</style>\n",
       "<table border=\"1\" class=\"dataframe\">\n",
       "  <thead>\n",
       "    <tr style=\"text-align: right;\">\n",
       "      <th></th>\n",
       "      <th>titre</th>\n",
       "      <th>realisateur</th>\n",
       "      <th>annee</th>\n",
       "    </tr>\n",
       "  </thead>\n",
       "  <tbody>\n",
       "    <tr>\n",
       "      <th>1</th>\n",
       "      <td>le million</td>\n",
       "      <td>René Clair</td>\n",
       "      <td>1931</td>\n",
       "    </tr>\n",
       "    <tr>\n",
       "      <th>2</th>\n",
       "      <td>Rendez vous à Badenberg</td>\n",
       "      <td>René Meurice</td>\n",
       "      <td>1970</td>\n",
       "    </tr>\n",
       "    <tr>\n",
       "      <th>3</th>\n",
       "      <td>Le cercle rouge</td>\n",
       "      <td>Jean-Pierre Melville</td>\n",
       "      <td>1970</td>\n",
       "    </tr>\n",
       "  </tbody>\n",
       "</table>\n",
       "</div>"
      ],
      "text/plain": [
       "                     titre           realisateur  annee\n",
       "1               le million            René Clair   1931\n",
       "2  Rendez vous à Badenberg          René Meurice   1970\n",
       "3          Le cercle rouge  Jean-Pierre Melville   1970"
      ]
     },
     "execution_count": 20,
     "metadata": {},
     "output_type": "execute_result"
    }
   ],
   "source": [
    "# correction\n",
    "filtre = tableaufilms_df['annee'] < 1972\n",
    "tableaufilms_df[filtre]"
   ]
  },
  {
   "cell_type": "markdown",
   "metadata": {},
   "source": [
    "### Jointure\n",
    "On effectuera une jointure entre ces 2 tables selon la condition:\n",
    "\n",
    "`tableaufilms_df['titre'] = tableausalles_df['titre`]\n",
    "\n",
    "On utilisera la fonciton `merge`. Cette fonction prend en paramètre 2 Dataframe à fusionner. On renseignera le paramètre `on` avec l'*attribut commun* aux 2 tables, grâce auquel on fera une *jointure*. \n",
    "\n",
    "```python\n",
    "pd.merge(df1,df2,on='attribut_commun')\n",
    "```\n",
    "\n",
    "**Question 6:** Dans la cellule suivante, réaliser la jonction entre `tableausalles_df` et `tableaufilms_df` avec pour *attribut commun* la colonne *titre*."
   ]
  },
  {
   "cell_type": "code",
   "execution_count": 21,
   "metadata": {},
   "outputs": [
    {
     "data": {
      "text/html": [
       "<div>\n",
       "<style scoped>\n",
       "    .dataframe tbody tr th:only-of-type {\n",
       "        vertical-align: middle;\n",
       "    }\n",
       "\n",
       "    .dataframe tbody tr th {\n",
       "        vertical-align: top;\n",
       "    }\n",
       "\n",
       "    .dataframe thead th {\n",
       "        text-align: right;\n",
       "    }\n",
       "</style>\n",
       "<table border=\"1\" class=\"dataframe\">\n",
       "  <thead>\n",
       "    <tr style=\"text-align: right;\">\n",
       "      <th></th>\n",
       "      <th>titre</th>\n",
       "      <th>realisateur</th>\n",
       "      <th>annee</th>\n",
       "      <th>salle</th>\n",
       "      <th>horaire</th>\n",
       "    </tr>\n",
       "  </thead>\n",
       "  <tbody>\n",
       "    <tr>\n",
       "      <th>0</th>\n",
       "      <td>la rage aux poings</td>\n",
       "      <td>Eric le Hung</td>\n",
       "      <td>1975</td>\n",
       "      <td>1</td>\n",
       "      <td>18h00</td>\n",
       "    </tr>\n",
       "    <tr>\n",
       "      <th>1</th>\n",
       "      <td>le million</td>\n",
       "      <td>René Clair</td>\n",
       "      <td>1931</td>\n",
       "      <td>2</td>\n",
       "      <td>15h00</td>\n",
       "    </tr>\n",
       "    <tr>\n",
       "      <th>2</th>\n",
       "      <td>Rendez vous à Badenberg</td>\n",
       "      <td>René Meurice</td>\n",
       "      <td>1970</td>\n",
       "      <td>3</td>\n",
       "      <td>21h00</td>\n",
       "    </tr>\n",
       "    <tr>\n",
       "      <th>3</th>\n",
       "      <td>Le cercle rouge</td>\n",
       "      <td>Jean-Pierre Melville</td>\n",
       "      <td>1970</td>\n",
       "      <td>4</td>\n",
       "      <td>18h05</td>\n",
       "    </tr>\n",
       "  </tbody>\n",
       "</table>\n",
       "</div>"
      ],
      "text/plain": [
       "                     titre           realisateur  annee  salle horaire\n",
       "0       la rage aux poings          Eric le Hung   1975      1   18h00\n",
       "1               le million            René Clair   1931      2   15h00\n",
       "2  Rendez vous à Badenberg          René Meurice   1970      3   21h00\n",
       "3          Le cercle rouge  Jean-Pierre Melville   1970      4   18h05"
      ]
     },
     "execution_count": 21,
     "metadata": {},
     "output_type": "execute_result"
    }
   ],
   "source": [
    "# correction\n",
    "pd.merge(tableaufilms_df, tableausalles_df,on='titre')"
   ]
  },
  {
   "cell_type": "markdown",
   "metadata": {},
   "source": [
    "**Question 7:** Réaliser une projection sur cette table pour afficher seulement les colonnes `horaire` et `titre`"
   ]
  },
  {
   "cell_type": "code",
   "execution_count": 22,
   "metadata": {},
   "outputs": [
    {
     "data": {
      "text/html": [
       "<div>\n",
       "<style scoped>\n",
       "    .dataframe tbody tr th:only-of-type {\n",
       "        vertical-align: middle;\n",
       "    }\n",
       "\n",
       "    .dataframe tbody tr th {\n",
       "        vertical-align: top;\n",
       "    }\n",
       "\n",
       "    .dataframe thead th {\n",
       "        text-align: right;\n",
       "    }\n",
       "</style>\n",
       "<table border=\"1\" class=\"dataframe\">\n",
       "  <thead>\n",
       "    <tr style=\"text-align: right;\">\n",
       "      <th></th>\n",
       "      <th>horaire</th>\n",
       "      <th>titre</th>\n",
       "    </tr>\n",
       "  </thead>\n",
       "  <tbody>\n",
       "    <tr>\n",
       "      <th>0</th>\n",
       "      <td>18h00</td>\n",
       "      <td>la rage aux poings</td>\n",
       "    </tr>\n",
       "    <tr>\n",
       "      <th>1</th>\n",
       "      <td>15h00</td>\n",
       "      <td>le million</td>\n",
       "    </tr>\n",
       "    <tr>\n",
       "      <th>2</th>\n",
       "      <td>21h00</td>\n",
       "      <td>Rendez vous à Badenberg</td>\n",
       "    </tr>\n",
       "    <tr>\n",
       "      <th>3</th>\n",
       "      <td>18h05</td>\n",
       "      <td>Le cercle rouge</td>\n",
       "    </tr>\n",
       "  </tbody>\n",
       "</table>\n",
       "</div>"
      ],
      "text/plain": [
       "  horaire                    titre\n",
       "0   18h00       la rage aux poings\n",
       "1   15h00               le million\n",
       "2   21h00  Rendez vous à Badenberg\n",
       "3   18h05          Le cercle rouge"
      ]
     },
     "execution_count": 22,
     "metadata": {},
     "output_type": "execute_result"
    }
   ],
   "source": [
    "table = pd.merge(tableaufilms_df, tableausalles_df,on='titre')\n",
    "table[['horaire', 'titre']]"
   ]
  },
  {
   "cell_type": "markdown",
   "metadata": {},
   "source": [
    "On peut maintenant trier ce tableau par horaire, avec l'instruction\n",
    "\n",
    "```python\n",
    "tableau_df.sort_values(by ='horaire')\n",
    "```"
   ]
  },
  {
   "cell_type": "code",
   "execution_count": 23,
   "metadata": {},
   "outputs": [
    {
     "data": {
      "text/html": [
       "<div>\n",
       "<style scoped>\n",
       "    .dataframe tbody tr th:only-of-type {\n",
       "        vertical-align: middle;\n",
       "    }\n",
       "\n",
       "    .dataframe tbody tr th {\n",
       "        vertical-align: top;\n",
       "    }\n",
       "\n",
       "    .dataframe thead th {\n",
       "        text-align: right;\n",
       "    }\n",
       "</style>\n",
       "<table border=\"1\" class=\"dataframe\">\n",
       "  <thead>\n",
       "    <tr style=\"text-align: right;\">\n",
       "      <th></th>\n",
       "      <th>titre</th>\n",
       "      <th>realisateur</th>\n",
       "      <th>annee</th>\n",
       "      <th>salle</th>\n",
       "      <th>horaire</th>\n",
       "    </tr>\n",
       "  </thead>\n",
       "  <tbody>\n",
       "    <tr>\n",
       "      <th>1</th>\n",
       "      <td>le million</td>\n",
       "      <td>René Clair</td>\n",
       "      <td>1931</td>\n",
       "      <td>2</td>\n",
       "      <td>15h00</td>\n",
       "    </tr>\n",
       "    <tr>\n",
       "      <th>0</th>\n",
       "      <td>la rage aux poings</td>\n",
       "      <td>Eric le Hung</td>\n",
       "      <td>1975</td>\n",
       "      <td>1</td>\n",
       "      <td>18h00</td>\n",
       "    </tr>\n",
       "    <tr>\n",
       "      <th>3</th>\n",
       "      <td>Le cercle rouge</td>\n",
       "      <td>Jean-Pierre Melville</td>\n",
       "      <td>1970</td>\n",
       "      <td>4</td>\n",
       "      <td>18h05</td>\n",
       "    </tr>\n",
       "    <tr>\n",
       "      <th>2</th>\n",
       "      <td>Rendez vous à Badenberg</td>\n",
       "      <td>René Meurice</td>\n",
       "      <td>1970</td>\n",
       "      <td>3</td>\n",
       "      <td>21h00</td>\n",
       "    </tr>\n",
       "  </tbody>\n",
       "</table>\n",
       "</div>"
      ],
      "text/plain": [
       "                     titre           realisateur  annee  salle horaire\n",
       "1               le million            René Clair   1931      2   15h00\n",
       "0       la rage aux poings          Eric le Hung   1975      1   18h00\n",
       "3          Le cercle rouge  Jean-Pierre Melville   1970      4   18h05\n",
       "2  Rendez vous à Badenberg          René Meurice   1970      3   21h00"
      ]
     },
     "execution_count": 23,
     "metadata": {},
     "output_type": "execute_result"
    }
   ],
   "source": [
    "# correction\n",
    "table.sort_values(by ='horaire')"
   ]
  },
  {
   "cell_type": "markdown",
   "metadata": {},
   "source": [
    "# Partie 2: Base de données: joueurs de NBA\n",
    "\n",
    "Le fichier joint *joueursNBA2020.csv* est un extrait des joueurs professionnels de basket de NBA, pour la saison 2019-2020. On va utiliser la librairie *pandas* pour ouvrir puis explorer ce fichier.\n",
    "\n"
   ]
  },
  {
   "cell_type": "code",
   "execution_count": null,
   "metadata": {},
   "outputs": [],
   "source": [
    "# Version Jupyterlite\n",
    "import pandas as pd  # on importe la librairie pandas \n",
    "from js import fetch\n",
    "\n",
    "URL = \"https://raw.githubusercontent.com/tix06/jupyterlite_NSI/master/files/datas/joueursNBA2020.csv\"\n",
    "\n",
    "res = await fetch(URL)\n",
    "text = await res.text()\n",
    "\n",
    "filename = 'datas.csv'\n",
    "\n",
    "with open(filename, 'w') as f:\n",
    "    f.write(text)\n",
    "\n",
    "data = pd.read_csv(filename, sep=';')\n",
    "data"
   ]
  },
  {
   "cell_type": "markdown",
   "metadata": {},
   "source": [
    "Les données recupérées doivent souvent être remises en forme. Le tableau ci-dessus présente plusieurs problèmes qui doivent être traités avant de pouvoir exploiter les données :\n",
    "\n",
    "* Il y a des colonnes Unnamed qui ne servent à rien : elles seront à supprimer\n",
    "* Il y a plus de lignes que de joueurs. Ces lignes ont pour valeur `NaN`. Il faudra aussi les supprimer.\n",
    "* Le poids des joueurs, dans la colonne `poids` est exprimé sous format `str`. Les valeurs sont écrites avec l’unité, kg. Il vaudra mieux les tranformer en type `float`, en retirant les caractères `kg`."
   ]
  },
  {
   "cell_type": "code",
   "execution_count": null,
   "metadata": {},
   "outputs": [],
   "source": [
    "#***************************************#\n",
    "# en pratique **************************#\n",
    "# selection des colonnes renseignées    #\n",
    "# et suppression des lignes NaN         #\n",
    "# avec .dropna()                        #\n",
    "#***************************************#\n",
    "tableau_reduit=data[['nom','equipe','poste','taille','poids','experience','pays']].dropna()"
   ]
  },
  {
   "cell_type": "code",
   "execution_count": null,
   "metadata": {},
   "outputs": [],
   "source": [
    "#*************************************#\n",
    "# puis `cast` de la colonne poids     #\n",
    "# les valeurs sont de type str et     #\n",
    "# combinent des float avec kg         #\n",
    "# par exemple 89.8 kg                 #\n",
    "#*************************************#\n",
    "\n",
    "tableau_reduit['poids']=tableau_reduit['poids'].replace(to_replace ='kg', value = '', regex = True) "
   ]
  },
  {
   "cell_type": "code",
   "execution_count": null,
   "metadata": {},
   "outputs": [],
   "source": [
    "#************************************#\n",
    "# puis conversion du type            #\n",
    "# str vers float                     #\n",
    "# **********CAST ********************#\n",
    "#************************************#\n",
    "\n",
    "tableau_reduit['poids']=tableau_reduit['poids'].astype('float')\n",
    "tableau_reduit"
   ]
  },
  {
   "cell_type": "markdown",
   "metadata": {},
   "source": [
    "Et voila, il n’y a plus qu’à explorer ce tableau de données...\n",
    "\n",
    "**Question 8:** filtrer le tableau pour n’afficher que les joueurs du poste ‘C’\n"
   ]
  },
  {
   "cell_type": "code",
   "execution_count": null,
   "metadata": {},
   "outputs": [],
   "source": []
  },
  {
   "cell_type": "markdown",
   "metadata": {},
   "source": [
    "**Question 9:** filtrer les joueurs pour ne conserver que les joueurs de nationalité autre que americaine.\n"
   ]
  },
  {
   "cell_type": "code",
   "execution_count": null,
   "metadata": {},
   "outputs": [],
   "source": []
  },
  {
   "cell_type": "markdown",
   "metadata": {},
   "source": [
    "**Question 10:** Trier les joueurs par taille, ou par poids"
   ]
  },
  {
   "cell_type": "code",
   "execution_count": null,
   "metadata": {},
   "outputs": [],
   "source": []
  }
 ],
 "metadata": {
  "kernelspec": {
   "display_name": "Python 3",
   "language": "python",
   "name": "python3"
  },
  "language_info": {
   "codemirror_mode": {
    "name": "ipython",
    "version": 3
   },
   "file_extension": ".py",
   "mimetype": "text/x-python",
   "name": "python",
   "nbconvert_exporter": "python",
   "pygments_lexer": "ipython3",
   "version": "3.7.9"
  }
 },
 "nbformat": 4,
 "nbformat_minor": 4
}
