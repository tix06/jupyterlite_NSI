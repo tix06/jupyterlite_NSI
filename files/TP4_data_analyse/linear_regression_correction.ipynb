{
 "cells": [
  {
   "cell_type": "markdown",
   "metadata": {},
   "source": [
    "# Analyse de données\n",
    "## Tutorial sur l'implémentation de régression linéaire\n",
    "\n",
    "Ce Notebook est une implémentation de la régression régression linéaire sur un jeu de données factice. Il sert comme support au cours à la page [allophysique.com//docs/NSI_1/algo/page1/](allophysique.com//docs/NSI_1/algo/page1/)"
   ]
  },
  {
   "cell_type": "markdown",
   "metadata": {},
   "source": [
    "### Chargement des diverses librairies utiles pour ce notebook "
   ]
  },
  {
   "cell_type": "code",
   "execution_count": 61,
   "metadata": {},
   "outputs": [],
   "source": [
    "# chargement de bibliothéques \n",
    "\"\"\"\n",
    "instruction specifique pour utiliser matplotlib dans un notebook \n",
    "quand on utilise les notebooks Jupyter pour utiliser Matplotlib\n",
    "\"\"\"\n",
    "%matplotlib inline  \n",
    "import pandas as pd\n",
    "import matplotlib.pyplot as plt\n",
    "from scipy import stats"
   ]
  },
  {
   "cell_type": "markdown",
   "metadata": {},
   "source": [
    "## Chargement du jeu de données\n",
    "On met le tableau dans un *Dataframe* et on l'observe. Les données de population sont exprimées en 10 000 habitants et celles du profit en 10 000 USD"
   ]
  },
  {
   "cell_type": "code",
   "execution_count": 108,
   "metadata": {},
   "outputs": [],
   "source": [
    "# Version Jupyterlite\n",
    "import pandas as pd  # on importe la librairie pandas \n",
    "from js import fetch\n",
    "\n",
    "URL = \"https://raw.githubusercontent.com/tix06/jupyterlite_NSI/master/files/datas/datas_trucks.csv\"\n",
    "\n",
    "res = await fetch(URL)\n",
    "text = await res.text()\n",
    "\n",
    "filename = 'datas_trucks.csv'\n",
    "\n",
    "with open(filename, 'w') as f:\n",
    "    f.write(text)\n",
    "\n",
    "df = pd.read_csv(filename, sep=';')"
   ]
  },
  {
   "cell_type": "code",
   "execution_count": 68,
   "metadata": {
    "scrolled": false
   },
   "outputs": [
    {
     "data": {
      "text/html": [
       "<div>\n",
       "<style scoped>\n",
       "    .dataframe tbody tr th:only-of-type {\n",
       "        vertical-align: middle;\n",
       "    }\n",
       "\n",
       "    .dataframe tbody tr th {\n",
       "        vertical-align: top;\n",
       "    }\n",
       "\n",
       "    .dataframe thead th {\n",
       "        text-align: right;\n",
       "    }\n",
       "</style>\n",
       "<table border=\"1\" class=\"dataframe\">\n",
       "  <thead>\n",
       "    <tr style=\"text-align: right;\">\n",
       "      <th></th>\n",
       "      <th>population</th>\n",
       "      <th>profit</th>\n",
       "      <th>trucks</th>\n",
       "    </tr>\n",
       "  </thead>\n",
       "  <tbody>\n",
       "    <tr>\n",
       "      <th>0</th>\n",
       "      <td>6.1101</td>\n",
       "      <td>17.59200</td>\n",
       "      <td>160</td>\n",
       "    </tr>\n",
       "    <tr>\n",
       "      <th>1</th>\n",
       "      <td>5.5277</td>\n",
       "      <td>9.13020</td>\n",
       "      <td>140</td>\n",
       "    </tr>\n",
       "    <tr>\n",
       "      <th>2</th>\n",
       "      <td>8.5186</td>\n",
       "      <td>13.66200</td>\n",
       "      <td>100</td>\n",
       "    </tr>\n",
       "    <tr>\n",
       "      <th>3</th>\n",
       "      <td>7.0032</td>\n",
       "      <td>11.85400</td>\n",
       "      <td>440</td>\n",
       "    </tr>\n",
       "    <tr>\n",
       "      <th>4</th>\n",
       "      <td>5.8598</td>\n",
       "      <td>6.82330</td>\n",
       "      <td>200</td>\n",
       "    </tr>\n",
       "    <tr>\n",
       "      <th>...</th>\n",
       "      <td>...</td>\n",
       "      <td>...</td>\n",
       "      <td>...</td>\n",
       "    </tr>\n",
       "    <tr>\n",
       "      <th>92</th>\n",
       "      <td>5.8707</td>\n",
       "      <td>7.20290</td>\n",
       "      <td>100</td>\n",
       "    </tr>\n",
       "    <tr>\n",
       "      <th>93</th>\n",
       "      <td>5.3054</td>\n",
       "      <td>1.98690</td>\n",
       "      <td>20</td>\n",
       "    </tr>\n",
       "    <tr>\n",
       "      <th>94</th>\n",
       "      <td>8.2934</td>\n",
       "      <td>0.14454</td>\n",
       "      <td>1</td>\n",
       "    </tr>\n",
       "    <tr>\n",
       "      <th>95</th>\n",
       "      <td>13.3940</td>\n",
       "      <td>9.05510</td>\n",
       "      <td>19</td>\n",
       "    </tr>\n",
       "    <tr>\n",
       "      <th>96</th>\n",
       "      <td>5.4369</td>\n",
       "      <td>0.61705</td>\n",
       "      <td>2</td>\n",
       "    </tr>\n",
       "  </tbody>\n",
       "</table>\n",
       "<p>97 rows × 3 columns</p>\n",
       "</div>"
      ],
      "text/plain": [
       "    population    profit  trucks\n",
       "0       6.1101  17.59200     160\n",
       "1       5.5277   9.13020     140\n",
       "2       8.5186  13.66200     100\n",
       "3       7.0032  11.85400     440\n",
       "4       5.8598   6.82330     200\n",
       "..         ...       ...     ...\n",
       "92      5.8707   7.20290     100\n",
       "93      5.3054   1.98690      20\n",
       "94      8.2934   0.14454       1\n",
       "95     13.3940   9.05510      19\n",
       "96      5.4369   0.61705       2\n",
       "\n",
       "[97 rows x 3 columns]"
      ]
     },
     "execution_count": 68,
     "metadata": {},
     "output_type": "execute_result"
    }
   ],
   "source": [
    "df"
   ]
  },
  {
   "cell_type": "markdown",
   "metadata": {},
   "source": [
    "## Creation des listes population, profit et trucks"
   ]
  },
  {
   "cell_type": "code",
   "execution_count": 109,
   "metadata": {},
   "outputs": [],
   "source": [
    "X = df['population']\n",
    "Y = df['profit']\n",
    "Z = df['trucks']"
   ]
  },
  {
   "cell_type": "markdown",
   "metadata": {},
   "source": [
    "## Visualisation du jeu de données\n",
    "Recherche des **correlations entre X, Y et Z**"
   ]
  },
  {
   "cell_type": "code",
   "execution_count": 110,
   "metadata": {
    "scrolled": true
   },
   "outputs": [
    {
     "data": {
      "image/png": "[encoded data removed]",
      "text/plain": [
       "<Figure size 432x288 with 1 Axes>"
      ]
     },
     "metadata": {
      "needs_background": "light"
     },
     "output_type": "display_data"
    }
   ],
   "source": [
    "# Correlation X, Y\n",
    "axes = plt.axes()\n",
    "axes.grid()\n",
    "plt.title(\"profit - population\")\n",
    "plt.xlabel(\"X\")\n",
    "plt.ylabel(\"Y\")\n",
    "plt.scatter(X,Y)\n",
    "plt.show()"
   ]
  },
  {
   "cell_type": "code",
   "execution_count": 89,
   "metadata": {},
   "outputs": [
    {
     "data": {
      "image/png": "[encoded data removed]",
      "text/plain": [
       "<Figure size 432x288 with 1 Axes>"
      ]
     },
     "metadata": {
      "needs_background": "light"
     },
     "output_type": "display_data"
    }
   ],
   "source": [
    "plt.clf()\n",
    "axes = plt.axes()\n",
    "axes.grid()\n",
    "# à completer\n",
    "plt.scatter(X,Z)\n",
    "plt.show()"
   ]
  },
  {
   "cell_type": "code",
   "execution_count": 85,
   "metadata": {},
   "outputs": [
    {
     "data": {
      "image/png": "[encoded data removed]",
      "text/plain": [
       "<Figure size 432x288 with 1 Axes>"
      ]
     },
     "metadata": {
      "needs_background": "light"
     },
     "output_type": "display_data"
    }
   ],
   "source": [
    "plt.clf()\n",
    "axes = plt.axes()\n",
    "axes.grid()\n",
    "# à completer\n",
    "plt.scatter(Z,Y)\n",
    "plt.show()"
   ]
  },
  {
   "cell_type": "markdown",
   "metadata": {},
   "source": [
    "### régression linéaire\n"
   ]
  },
  {
   "cell_type": "markdown",
   "metadata": {},
   "source": [
    "On peut utiliser le module librairie SciPy (Scientific Python) pour implémenter une régression linéaire. Le sous package stats propose la fonction linregress qui calcule une régression à partir d'un jeu de donnée d'entrainement "
   ]
  },
  {
   "cell_type": "code",
   "execution_count": 94,
   "metadata": {},
   "outputs": [
    {
     "data": {
      "text/plain": [
       "(1.1930336441895941, -3.8957808783118555, 0.837873232526341)"
      ]
     },
     "execution_count": 94,
     "metadata": {},
     "output_type": "execute_result"
    }
   ],
   "source": [
    "slope, intercept, r_value, p_value, std_err = stats.linregress(X, Y)\n",
    "slope, intercept, r_value"
   ]
  },
  {
   "cell_type": "markdown",
   "metadata": {},
   "source": [
    "### Modèle obtenu\n",
    "\n",
    "Le fonction de prédiction pour une régression linéaire a pour équation :\n",
    "\n",
    "\n",
    "\\begin{align}\n",
    "H(x) = intercept + slope * x\n",
    "\\end{align}\n",
    "\n",
    "avec :\n",
    "* $slope$ : représente la **pente** de la courbe modélisée (la fonction de prédiction) \n",
    "* $intercept$ : représente l'**ordonnée à l'orgine** (le point d'intersection avec l'axe des ordonnées)\n",
    "* $r_value$: le **coefficient de correlation**\n",
    "    * Une valeur proche de 1 signifie qu'il y a une bonne correlatoin entre les grandeurs, et que l'on peut considérer le modèle comme valide.\n",
    "    * Une faible valeur (inf à 0.8 par exemple) signifie que les grandeurs ne sont pas vraiment correlées.\n",
    "    \n",
    "Ainsi notre fonction $H(X)$ se décrit comme suit : \n",
    "\n",
    "\\begin{align}\n",
    "H(X) = -4.211504005424089 + 1.2135472539083585 * X\\\\\n",
    "r = 0.837873232526341\n",
    "\\end{align}\n",
    "\n",
    "\n",
    "### Regression linéaire sur X - Z\n",
    "calculer les coefficients de regression pour Z = f(X)"
   ]
  },
  {
   "cell_type": "code",
   "execution_count": 95,
   "metadata": {},
   "outputs": [
    {
     "data": {
      "text/plain": [
       "(17.149786003209716, -32.86665888053702, 0.5126690163242533)"
      ]
     },
     "execution_count": 95,
     "metadata": {},
     "output_type": "execute_result"
    }
   ],
   "source": [
    "# à completer\n",
    "slope, intercept, r_value, p_value, std_err = stats.linregress(X, Z)\n",
    "slope, intercept, r_value"
   ]
  },
  {
   "cell_type": "markdown",
   "metadata": {},
   "source": [
    "### Regression linéaire sur Z - Y\n",
    "calculer les coefficients de regression pour Y = f(Z)"
   ]
  },
  {
   "cell_type": "code",
   "execution_count": 96,
   "metadata": {},
   "outputs": [
    {
     "data": {
      "text/plain": [
       "(0.02734147495063942, 2.9116241356975165, 0.6423462576541682)"
      ]
     },
     "execution_count": 96,
     "metadata": {},
     "output_type": "execute_result"
    }
   ],
   "source": [
    "# à completer\n",
    "slope, intercept, r_value, p_value, std_err = stats.linregress(Z, Y)\n",
    "slope, intercept, r_value"
   ]
  },
  {
   "cell_type": "markdown",
   "metadata": {},
   "source": [
    "## Ecriture de la fonction de prédiction avec Python\n",
    "\n",
    "Vu qu'on dispose de notre fonction des coefficients de notre fonction de prédiction, on peut écrire celle-ci en python. \n",
    "\n",
    "> Compléter la fonction `H` pour que celle-ci renvoie la valeur calculée H(X) à l'aide des coefficients calculée `slope` et `intercept`"
   ]
  },
  {
   "cell_type": "code",
   "execution_count": 102,
   "metadata": {},
   "outputs": [],
   "source": [
    "def H(x, slope, intercept):\n",
    "    # à completer\n",
    "    return slope * x + intercept"
   ]
  },
  {
   "cell_type": "markdown",
   "metadata": {},
   "source": [
    "## Dessiner la fonction de prédiction \n",
    "\n",
    "On peut utiliser la fonction de prédiction qu'on vient de définir pour avoir la valeur prédite par la fonction hypothèse pour chacune des observations de notre jeu d'entrainement. Ainsi on pourra voir visuellement comment la fonction de prédiction \"approche\" le jeu d'entrainement."
   ]
  },
  {
   "cell_type": "code",
   "execution_count": 103,
   "metadata": {},
   "outputs": [
    {
     "data": {
      "image/png": "[encoded data removed]",
      "text/plain": [
       "<Figure size 432x288 with 1 Axes>"
      ]
     },
     "metadata": {
      "needs_background": "light"
     },
     "output_type": "display_data"
    }
   ],
   "source": [
    "slope, intercept, r_value, p_value, std_err = stats.linregress(X, Y)\n",
    "\n",
    "axes = plt.axes()\n",
    "axes.grid()\n",
    "plt.scatter(X,Y)\n",
    "fitLine = predict(X)\n",
    "plt.plot(X, fitLine, c='r')\n",
    "plt.show()"
   ]
  },
  {
   "cell_type": "markdown",
   "metadata": {},
   "source": [
    "## Prédiction d'une nouvelle observation\n",
    "\n",
    "On voit que pour pour la valeur x = 22.5, la valeur de y pour est environ 25. Utilisons la fonction `H` pour trouver une estimation de `H(x = 22.5)`"
   ]
  },
  {
   "cell_type": "code",
   "execution_count": 105,
   "metadata": {},
   "outputs": [
    {
     "data": {
      "text/plain": [
       "10.062712758706395"
      ]
     },
     "execution_count": 105,
     "metadata": {},
     "output_type": "execute_result"
    }
   ],
   "source": [
    "H(11.7,slope,intercept)"
   ]
  },
  {
   "cell_type": "markdown",
   "metadata": {},
   "source": [
    "### Calculer l'écart avec la valeur du tableau\n",
    "filtrer le tableau selon la valeur `filtre = df['population'] == 11.7` et afficher la ligne *Dataframe df* correspondante."
   ]
  },
  {
   "cell_type": "code",
   "execution_count": 106,
   "metadata": {},
   "outputs": [
    {
     "data": {
      "text/html": [
       "<div>\n",
       "<style scoped>\n",
       "    .dataframe tbody tr th:only-of-type {\n",
       "        vertical-align: middle;\n",
       "    }\n",
       "\n",
       "    .dataframe tbody tr th {\n",
       "        vertical-align: top;\n",
       "    }\n",
       "\n",
       "    .dataframe thead th {\n",
       "        text-align: right;\n",
       "    }\n",
       "</style>\n",
       "<table border=\"1\" class=\"dataframe\">\n",
       "  <thead>\n",
       "    <tr style=\"text-align: right;\">\n",
       "      <th></th>\n",
       "      <th>population</th>\n",
       "      <th>profit</th>\n",
       "      <th>trucks</th>\n",
       "      <th>profil_rel</th>\n",
       "    </tr>\n",
       "  </thead>\n",
       "  <tbody>\n",
       "    <tr>\n",
       "      <th>48</th>\n",
       "      <td>11.7</td>\n",
       "      <td>8.0043</td>\n",
       "      <td>200</td>\n",
       "      <td>400.215</td>\n",
       "    </tr>\n",
       "  </tbody>\n",
       "</table>\n",
       "</div>"
      ],
      "text/plain": [
       "    population  profit  trucks  profil_rel\n",
       "48        11.7  8.0043     200     400.215"
      ]
     },
     "execution_count": 106,
     "metadata": {},
     "output_type": "execute_result"
    }
   ],
   "source": [
    "# à completer\n",
    "filtre = df['population'] == 11.7\n",
    "df[filtre]"
   ]
  },
  {
   "cell_type": "markdown",
   "metadata": {},
   "source": [
    "### Calculer alors l'écart constaté avec la prédiction"
   ]
  },
  {
   "cell_type": "code",
   "execution_count": null,
   "metadata": {},
   "outputs": [],
   "source": [
    "# à completer"
   ]
  },
  {
   "cell_type": "markdown",
   "metadata": {},
   "source": [
    "### La partie de la courbe pour laquelle la population est comprise entre 15 et 20 est vide de points. Calculer l'une de ces valeurs avec la fonction `H`"
   ]
  },
  {
   "cell_type": "code",
   "execution_count": null,
   "metadata": {},
   "outputs": [],
   "source": [
    "# à completer"
   ]
  },
  {
   "cell_type": "markdown",
   "metadata": {},
   "source": [
    "## Profit relatif au nombre de trucks-food\n",
    "On peut rechercher également quel est le *profit relatif* au nombre de trucks-food déjà present dans une ville.\n",
    "\n",
    "Créer une nouvelle colonne dans le *Dataframe* avec:\n",
    "\n",
    "```python\n",
    "df['profil_rel'] = df['profit']*10000 / df['trucks'] \n",
    "```"
   ]
  },
  {
   "cell_type": "code",
   "execution_count": null,
   "metadata": {},
   "outputs": [],
   "source": [
    "# à completer\n",
    "df['profil_rel'] = df['profit']*10000 / df['trucks'] "
   ]
  },
  {
   "cell_type": "markdown",
   "metadata": {},
   "source": [
    "### Graphique `profit-rel` \n",
    "visualiser l'eventuelle correlation entre le *profit relatif* et l'une des données du tableau"
   ]
  },
  {
   "cell_type": "code",
   "execution_count": 77,
   "metadata": {},
   "outputs": [],
   "source": [
    "# à completer"
   ]
  },
  {
   "cell_type": "markdown",
   "metadata": {},
   "source": [
    "## Trier les données du *Dataframe* selon la colonne *profit_rel*\n",
    "Et retrouver ainsi le meilleur emplacement\n",
    "\n",
    "La fonction de tri sur un *Dataframe* a été vue dans `TP4/datas_analyse_pandas.ipynb` ainsi que dans `TP1/sequence2.ipynb`"
   ]
  },
  {
   "cell_type": "code",
   "execution_count": null,
   "metadata": {},
   "outputs": [],
   "source": []
  },
  {
   "cell_type": "code",
   "execution_count": null,
   "metadata": {},
   "outputs": [],
   "source": []
  }
 ],
 "metadata": {
  "celltoolbar": "Aucun(e)",
  "kernelspec": {
   "display_name": "Python 3",
   "language": "python",
   "name": "python3"
  },
  "language_info": {
   "codemirror_mode": {
    "name": "ipython",
    "version": 3
   },
   "file_extension": ".py",
   "mimetype": "text/x-python",
   "name": "python",
   "nbconvert_exporter": "python",
   "pygments_lexer": "ipython3",
   "version": "3.7.9"
  }
 },
 "nbformat": 4,
 "nbformat_minor": 1
}
