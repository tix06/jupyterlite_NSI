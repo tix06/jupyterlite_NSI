{
 "cells": [
  {
   "cell_type": "markdown",
   "id": "martial-multimedia",
   "metadata": {},
   "source": [
    "# Exercice 1\n"
   ]
  },
  {
   "cell_type": "markdown",
   "id": "9f99650a",
   "metadata": {},
   "source": [
    "### Utiliser directement l'import du fichier\n",
    "Le contenu du fichier est mis dans la variable `fichier_csv`. Pour transformer le texte en liste, on utilisera les fonctions `list` et `csv.reader`:"
   ]
  },
  {
   "cell_type": "code",
   "execution_count": null,
   "id": "d9ac91f1",
   "metadata": {},
   "outputs": [],
   "source": [
    "import csv\n",
    "fichier_csv = ['id,latitude,longitude,couleur,nom,description,T2,T3,Super_chargeur,distance_km\\r\\n',\n",
    " \"1,42.83004,2.917944,#0000FF,reveo,Impasse D'En Valette 66600 SALSES LE CHATEAU,2,0,Non,16.6\\r\\n\",\n",
    " \"2,42.85528,3.036389,#0000FF,reveo,Collège- Annexe Port Leucate-Rue De L'Estagnol 11370 LEUCATE,2,0,Non,28.2\\r\\n\",\n",
    " '3,42.93500,3.031667,#0000FF,reveo,Parking Avenue Des Tamarins La Franqui 11370 LEUCATE,2,1,Non,39.5\\r\\n',\n",
    " '4,42.99306,2.953611,#0000FF,reveo,Rue De La Capelle 11540 ROQUEFORT-DES-CORBIERES,2,1,Non,44.5\\r\\n',\n",
    " \"5,43.02750,2.981667,#0000FF,reveo,Place De L'Octroi 11130 SIGEAN,2,1,Non,47.2\\r\\n\",\n",
    " '6,43.05166,2.928098,#0000FF,reveo,Avenue Des Corbieres 11490 PORTEL-DES-CORBIERES,2,1,Non,49.7\\r\\n',\n",
    " '7,43.05778,2.921944,#0000FF,reveo,Chemin Des Platrieres Parking Terra Vinea 11490 PORTEL DES CORBIERES,2,1,Non,49.5\\r\\n',\n",
    " '8,43.08778,2.959722,#0000FF,reveo,Place Joseph Aubin Fabre 11440 PEYRIAC DE MER,2,1,Non,56.4\\r\\n',\n",
    " '9,43.12250,2.989722,#0000FF,reveo,Rue Des Elysiques 11100 BAGES,2,1,Non,68.6\\r\\n',\n",
    " \"10,43.16852,2.985048,#FF0000,TESLASUPERCHARGER,130 Rue de L'Hotellerie 11100 Narbonne,0,0,Oui,62.7\\r\\n\",\n",
    " '11,43.17431,2.992752,#0000FF,reveo,Avenue Général Leclerc 11100 NARBONNE,2,1,Non,63\\r\\n',\n",
    " '12,43.18861,2.928611,#0000FF,reveo,Avenue Du Languedoc Parking De La Maison Des Associations 11100 MONTREDON-DES CORBIERES,2,1,Non,68.4\\r\\n',\n",
    " '13,43.16417,2.868611,#0000FF,reveo,Rue De La Distillerie 11200 BIZANET,2,1,Non,75.4\\r\\n',\n",
    " '14,43.14334,2.727379,#0000FF,reveo,Av De La Mer 11200 FERRALS-LES-CORBIERES,2,1,Oui,85.1\\r\\n',\n",
    " '15,43.18494,2.590176,#0000FF,reveo,Avenue Des Corbières 11700 DOUZENS,2,1,Non,98.2\\r\\n',\n",
    " '16,43.18556,2.56,#0000FF,reveo,Rue Du Cers - Parking Pole Santé 11700 CAPENDU,2,1,Non,100.3\\r\\n',\n",
    " \"17,43.18556,2.56,#0000FF,reveo,Parking Le Jerroir Vignerons Des Coteaux De L'Alaric 11700 CAPENDU,2,1,Non,101\\r\\n\",\n",
    " '18,43.20889,2.444722,#0000FF,reveo,Parking Le Stade 11800 TREBES,2,1,Non,111.9\\r\\n',\n",
    " '19,43.21056,2.443889,#0000FF,reveo,Place Du 19 Mars 62 11800 TREBES,2,1,Non,111.8\\r\\n',\n",
    " '20,43.21056,2.443889,#0000FF,reveo,Place Du 19 Mars 62 11800 TREBES,2,1,Non,111.8\\r\\n',\n",
    " '21,43.17333,2.388611,#0000FF,reveo,Centre Commercial Lo Moral 11570 PALAJA,2,1,Non,119.1\\r\\n',\n",
    " '22,49.20,2.21,#0000FF,reveo,Rue Des Condamines 11290 ARZENS,2,1,Non,129.7\\r\\n',\n",
    " '22,43.22141,2.395041,#0000FF,reveo,Chemin De La Madeleine 11010 CARCASSONNE,2,1,Non,115\\r\\n',\n",
    " '24,43.20028,2.141944,#0000FF,reveo,Place De La Republique 11290 MONTREAL,2,1,Non,135\\r\\n',\n",
    " '25,43.23917,2.228056,#0000FF,reveo,Rue Saint Roch - Parking Halte Secondaire Canal Midi 11170 VILLESEQUELANDE,2,1,Oui,130.3\\r\\n',\n",
    " '26,43.25534,2.174213,#0000FF,reveo,2 Chemin De Cayrol 11170 ALZONNE,2,1,Non,136.6\\r\\n',\n",
    " '27,43.24306,2.115833,#0000FF,reveo,Parking Rue Marceau 11150 BRAM,2,1,Non,137.9\\r\\n',\n",
    " '28,43.24289,2.114722,#0000FF,reveo,Place Carnot 11150 BRAM,2,1,Non,137.8\\r\\n',\n",
    " '29,43.24389,2.111667,#0000FF,reveo,Rue Du Chanoine Andrieu 11150 BRAM,2,1,Non,137.8\\r\\n',\n",
    " '30,43.28249,2.088504,#0000FF,reveo,Rue Léon Blum 11150 VILLEPINTE,2,1,Non,144.6\\r\\n',\n",
    " '31,43.28249,2.088504,#0000FF,reveo,Rue Léon Blum 11150 VILLEPINTE,2,1,Non,144.6\\r\\n',\n",
    " \"32,43.295,2.043056,#0000FF,reveo,Grand Rue Parking Du Chateau D'Eau 11400 LASBORDES,2,1,Oui,147.2\\r\\n\"]\n",
    "\n",
    "stations = list(csv.reader(fichier_csv))"
   ]
  },
  {
   "cell_type": "markdown",
   "id": "foster-toolbox",
   "metadata": {},
   "source": [
    "> 1. Explorer la variable `stations` (afficher ses 3 premières lignes).\n",
    "\n",
    ">2. Quel est le type construit de la variable `stations`?\n",
    "3. Que contient la première sous-liste de `stations`: des descripteurs, ou des valeurs?"
   ]
  },
  {
   "cell_type": "code",
   "execution_count": null,
   "id": "artistic-recruitment",
   "metadata": {},
   "outputs": [],
   "source": [
    "# correction\n",
    "stations[:3]"
   ]
  },
  {
   "cell_type": "markdown",
   "id": "facial-presentation",
   "metadata": {},
   "source": [
    ">4. Ecrire une instruction qui renvoie le nombre de stations de la variable `stations`"
   ]
  },
  {
   "cell_type": "code",
   "execution_count": null,
   "id": "controversial-wedding",
   "metadata": {},
   "outputs": [],
   "source": [
    "# correction\n",
    "len(stations) - 1"
   ]
  },
  {
   "cell_type": "markdown",
   "id": "needed-reggae",
   "metadata": {},
   "source": [
    ">5. Ecrire une instruction permettant d'afficher les descripteur de la variable `stations`"
   ]
  },
  {
   "cell_type": "code",
   "execution_count": null,
   "id": "scenic-excerpt",
   "metadata": {},
   "outputs": [],
   "source": [
    "# correction\n",
    "stations[0]"
   ]
  },
  {
   "cell_type": "markdown",
   "id": "frank-trash",
   "metadata": {},
   "source": [
    "Une erreur de saisie de la base de données doit être corrigée. La station 22 a pour longitude 43,20° et non 49,20°.\n",
    "\n",
    ">5. Modifier par affectation la donnée correspondante de la variable `stations`"
   ]
  },
  {
   "cell_type": "code",
   "execution_count": null,
   "id": "hollow-junction",
   "metadata": {},
   "outputs": [],
   "source": [
    "# correction\n",
    "print(stations[22][1])"
   ]
  },
  {
   "cell_type": "code",
   "execution_count": null,
   "id": "neural-ebony",
   "metadata": {},
   "outputs": [],
   "source": [
    "# correction\n",
    "stations[22][1] = 43.20\n",
    "print(stations[22])"
   ]
  },
  {
   "cell_type": "markdown",
   "id": "funny-background",
   "metadata": {},
   "source": [
    "# Exercice 2\n",
    "## Selection dans une table"
   ]
  },
  {
   "cell_type": "markdown",
   "id": "promising-amount",
   "metadata": {},
   "source": [
    "Phyléas, qui habite Perpignan, décide d'aller en vacances à Toulouse. Il possède un véhicule électrique, qui a une faible autonomie, de 50km. Ce qui l'oblige à anticiper son itinérairre, et prevoir les emplacements des stations de recharge."
   ]
  },
  {
   "cell_type": "code",
   "execution_count": null,
   "id": "utility-grill",
   "metadata": {},
   "outputs": [],
   "source": [
    "import csv\n",
    "#ouverture du fichier csv\n",
    "def lecture_fichier(nom_fichier):\n",
    "    with open(nom_fichier, mode='r') as fichier_ouvert:\n",
    "        return list(csv.reader(fichier_ouvert, delimiter=\",\"))\n",
    "\n",
    "def detecter_doublons(table):\n",
    "    doublons = []\n",
    "    for i in range (1, len(table)):\n",
    "        for j in range(i + 1, len(table)):\n",
    "            if table[i][1:] == table[j][1:]:\n",
    "                doublons.append([i, j])\n",
    "    return doublons\n",
    "\n",
    "def selectionner(table):\n",
    "    selection=[]\n",
    "    for i in range(1,len(table)):\n",
    "        if critere(table[i]):\n",
    "            selection.append(table[i][0])\n",
    "    return selection"
   ]
  },
  {
   "cell_type": "markdown",
   "id": "systematic-director",
   "metadata": {},
   "source": [
    "Certains fichiers de données en table peuvent contenir des lignes aux valeurs identiques, que l'on appelle des *doublons*. Seule la première colonne, l'*identifiant* est différente.\n",
    "\n",
    ">1. Charger les données du fichier `stations.csv` dans la variable `stations`\n",
    "2. Afficher les lignes 19 à 25. Voyez vous des doublons dans le fichier *stations.csv*?"
   ]
  },
  {
   "cell_type": "code",
   "execution_count": null,
   "id": "exclusive-doctor",
   "metadata": {},
   "outputs": [],
   "source": [
    "# correction\n",
    "for i in range(18,25):\n",
    "    print(i,stations[i])"
   ]
  },
  {
   "cell_type": "markdown",
   "id": "novel-federation",
   "metadata": {},
   "source": [
    ">3. Utiliser la fonction `detecter_doublons` pour relever tous les doublons. Expliquer son fonctionnement."
   ]
  },
  {
   "cell_type": "code",
   "execution_count": null,
   "id": "optional-politics",
   "metadata": {},
   "outputs": [],
   "source": [
    "# correction\n",
    "detecter_doublons(stations)"
   ]
  },
  {
   "cell_type": "markdown",
   "id": "conservative-mitchell",
   "metadata": {},
   "source": [
    "L'instruction `del table[i]` efface la ligne d'iudice `i` de la liste `table`. \n",
    "\n",
    ">4. Ecrire une à une les instructions permettant d'enlever les doublons dans la liste `stations`, **en commençant par la fin** afin de ne pas décaler les lignes."
   ]
  },
  {
   "cell_type": "code",
   "execution_count": null,
   "id": "acting-ecology",
   "metadata": {},
   "outputs": [],
   "source": [
    "# correction \n",
    "del stations[31]\n",
    "del stations[20]\n",
    "\n",
    "for i in range(18,25):\n",
    "    print(i,stations[i])\n",
    "    \n",
    "detecter_doublons(stations)"
   ]
  },
  {
   "cell_type": "markdown",
   "id": "applicable-florida",
   "metadata": {},
   "source": [
    "La fonction `selectionner` permet de *selectionner* certaines des lignes `table[i]` d'une table, celles qui retournent `True` au test:\n",
    "\n",
    "```if critere(table[i])``` \n",
    "\n",
    "`critere` est donc une fonction... que vous allez programmer.\n",
    "\n",
    "* Cette fonction prend en paramètre une ligne de la table `stations`. Appelez ce paramètre `station`\n",
    "* Cette fonction compare `station[-1]`, que l'on transformera en flottant, avec la valeur 50:\n",
    " * si cette valeur est inférieure à 50: renvoyer `True`\n",
    " * sinon, renvoyer `False` \n",
    " \n",
    "> 5. Programmer la fonction `critere`\n",
    "6. Utiliser la fonction `selectionner` pour afficher la liste des indices des stations selectionnées."
   ]
  },
  {
   "cell_type": "code",
   "execution_count": null,
   "id": "industrial-questionnaire",
   "metadata": {},
   "outputs": [],
   "source": [
    "# correction version fonction lambda (pour les terminales NSI)\n",
    "def selectionner1(table, critere):\n",
    "    selection=[]\n",
    "    for i in range(1,len(table)):\n",
    "        if critere(table[i]):\n",
    "            selection.append(table[i][0])\n",
    "    return selection\n",
    "\n",
    "result = selectionner1(stations, lambda x: float(x[-1])<50)\n",
    "print(result)\n",
    "\n",
    "# correction version classique (pour les premieres NSI)\n",
    "def selectionner2(table):\n",
    "    selection=[]\n",
    "    for i in range(1,len(table)):\n",
    "        if critere(table[i]):\n",
    "            selection.append(table[i][0])\n",
    "    return selection\n",
    "\n",
    "def critere(station):\n",
    "    d = float(station[-1])\n",
    "    return d < 50\n",
    "\n",
    "selectionner(stations)"
   ]
  },
  {
   "cell_type": "markdown",
   "id": "rolled-disposition",
   "metadata": {},
   "source": [
    "Pour *selectionner* les informations des stations correspondantes, on pourra utiliser l'instruction suivante:"
   ]
  },
  {
   "cell_type": "code",
   "execution_count": null,
   "id": "violent-stomach",
   "metadata": {},
   "outputs": [],
   "source": [
    "selection = [station for station in stations if station[0] in selectionner(stations)]"
   ]
  },
  {
   "cell_type": "markdown",
   "id": "common-bible",
   "metadata": {},
   "source": [
    "C'est alors la table `selection` qui stocke les stations *séléctionnées*:"
   ]
  },
  {
   "cell_type": "code",
   "execution_count": null,
   "id": "bd3df756-2b17-4915-98c3-ff19dcad1a11",
   "metadata": {},
   "outputs": [],
   "source": [
    "selection"
   ]
  },
  {
   "cell_type": "markdown",
   "id": "everyday-municipality",
   "metadata": {},
   "source": [
    ">7. Selectionner maintenant les stations qui possèdent un *Super chargeur*, c'est à dire qui ont pour valeur `'Oui'` dans la colonne correspondante."
   ]
  },
  {
   "cell_type": "code",
   "execution_count": null,
   "id": "original-watershed",
   "metadata": {},
   "outputs": [],
   "source": [
    "# correction\n",
    "def critere(station):\n",
    "    chargeur = station[-2]\n",
    "    return chargeur == 'Oui'\n",
    "\n",
    "selectionner(stations)"
   ]
  },
  {
   "cell_type": "markdown",
   "id": "published-cruise",
   "metadata": {},
   "source": [
    "## Projection dans une table\n",
    "La **projection** permet de créer une nouvelle table, contenant autant de lignes, mais dont on réduit le nombre de colonnes.\n",
    "\n",
    "Observer les scripts de création des listes *selection* et *projection*. \n",
    "\n",
    ">8. Quelle est la différence entre ces 2 scripts ?"
   ]
  },
  {
   "cell_type": "code",
   "execution_count": null,
   "id": "b650899a-7fa5-4c9d-8fe6-0d15413088c1",
   "metadata": {},
   "outputs": [],
   "source": [
    "selection = [station for station in stations if station[0] in selectionner(stations)]\n",
    "projection = [[station[i] for i in [0,1,2,3,4]] for station in selection]\n",
    "projection"
   ]
  },
  {
   "cell_type": "markdown",
   "id": "secondary-trace",
   "metadata": {},
   "source": [
    "La fonction `exporter` va écrire les données en format CSV à partir d'une liste. Cette fonction prend en paramètres:\n",
    "\n",
    "* la liste (paramètre `tableau`)\n"
   ]
  },
  {
   "cell_type": "code",
   "execution_count": null,
   "id": "seasonal-vienna",
   "metadata": {},
   "outputs": [],
   "source": [
    "def exporter(tableau):\n",
    "    for ligne in tableau:\n",
    "        texte = \"\"\n",
    "        for element in ligne:\n",
    "            texte += element + \",\"\n",
    "        print(texte)"
   ]
  },
  {
   "cell_type": "markdown",
   "id": "responsible-swiss",
   "metadata": {},
   "source": [
    ">9. Afficher les données de la liste `projection` en format csv"
   ]
  },
  {
   "cell_type": "code",
   "execution_count": null,
   "id": "looking-junior",
   "metadata": {},
   "outputs": [],
   "source": []
  },
  {
   "cell_type": "markdown",
   "id": "animal-wings",
   "metadata": {},
   "source": [
    ">10. Ajouter des marqueurs sur la carte routière à partir de la liste *projection*. Lien vers la carte interactive: [https://www.cahier-nsi.fr/livecsvmap2/](https://www.cahier-nsi.fr/livecsvmap2/)"
   ]
  },
  {
   "cell_type": "markdown",
   "id": "interim-commonwealth",
   "metadata": {},
   "source": [
    "# Exercice 3\n",
    "## Jointure de tables\n",
    "On cherche à aider Phyleas dans son choix pour ses arrêts. Une solution pourrait être de profiter du temps de recharge électrique de la voiture pour se restaurer. On dispose d'un 2e fichier CSV `snacks.csv`.\n",
    "\n",
    "Ce fichier est accessible à partir:\n",
    "\n",
    "* de son adresse locale: [snacks.csv](snack.csv)\n",
    "* d'un depot distant: [https://raw.githubusercontent.com/tix06/jupyterlite-demo/main/content/datas/snacks.csv](https://raw.githubusercontent.com/tix06/jupyterlite-demo/main/content/datas/snacks.csv)\n",
    "\n",
    "Le contenu du fichier est le suivant:\n",
    "\n",
    "```\n",
    "['id,latitude,longitude,couleur,description\\r\\n',\n",
    " '1,42.83108,2.91908,#0aae0a,15 av Gén de Gaulle 66600 Salses-le-Château\\r\\n',\n",
    " '2,42.99133,2.95457,#0aae0a,11540 Roquefort-des-Corbières,Resto-broc La Murelle \\r\\n',\n",
    " '3,43.02803,2.98141,#0aae0a,La Felicita Restaurant 1 r Ecoles 11130 Sigean\\r\\n',\n",
    " '4,43.08694,2.95953,#0aae0a,Restaurant 7 Bis pl Mairie 11440 Peyriac-de-Mer\\r\\n',\n",
    " \"5,43.03082,2.96508,#0aae0a,3 Route de Fraisse 11130 Sigean,McDonald's SIGEAN \\r\\n\",\n",
    " '6,43.12345,2.99078,#0aae0a,10 lot Village des Pêcheurs 11100 Bages,restaurant\\r\\n',\n",
    " '7,43.1689,2.98439,#0aae0a,Rue de Ratacas Zi de Plaisance 11100 Narbonne,Hotel-restaurant\\r\\n',\n",
    " '8,43.16344,2.87022,#0aae0a,16 r Paris 11200 Bizanet,restaurant\\r\\n',\n",
    " '9,43.18699,2.55961,#0aae0a,Aire des Corbieres 11700 Capendu,Autogrill Côté FranceRestaurant\\r\\n',\n",
    " '10,43.14753,2.7263,#0aae0a,16 pl République 11200 Ferrals-les-Corbières,restaurant\\r\\n',\n",
    " '11,43.21078,2.44362,#0aae0a,10 av Pierre Loti 11800 Trèbes,restaurant\\r\\n',\n",
    " '12,43.17359,2.3882,#0aae0a,Lo Moral 11570 Palaja,restaurant\\r\\n',\n",
    " '13,43.23934,2.22859,#0aae0a,19 r St Roch 11170 Villesèquelande,restaurant\\r\\n',\n",
    " '14,43.24321,2.1146,#0aae0a,28 av Gén de Gaulle 11150 Bram,restaurant\\r\\n',\n",
    " '15,43.2437,2.11649,#0aae0a,4 av Ernest Léotard 11150 Bram,pizza\\r\\n',\n",
    " '16,43.28,2.09081,#0aae0a,41 Bis bd Gambetta 11150 Villepinte,pizza']\n",
    " ```\n",
    "\n",
    "Afin d'exploiter simultanément les informations provenant des 2 fichiers CSV, il faut les lier entre eux grâce à une opération appelée **fusion des tables**. \n",
    "\n",
    ">1. Importer les données du fichier *stations.txt* dans une variable appelée `stations`. Vous utiliserez l'une des 3 méthodes, au choix, que l'on a vue plus haut.\n",
    "2. Importer les données du fichier *snacks.csv* dans une varible appelée `snacks`. Choisissez là aussi l'une des 3 méthodes."
   ]
  },
  {
   "cell_type": "code",
   "execution_count": null,
   "id": "short-terrace",
   "metadata": {},
   "outputs": [],
   "source": [
    "fichier_csv = ['id,latitude,longitude,couleur,description\\r\\n',\n",
    " '1,42.83108,2.91908,#0aae0a,15 av Gén de Gaulle 66600 Salses-le-Château\\r\\n',\n",
    " '2,42.99133,2.95457,#0aae0a,11540 Roquefort-des-Corbières,Resto-broc La Murelle \\r\\n',\n",
    " '3,43.02803,2.98141,#0aae0a,La Felicita Restaurant 1 r Ecoles 11130 Sigean\\r\\n',\n",
    " '4,43.08694,2.95953,#0aae0a,Restaurant 7 Bis pl Mairie 11440 Peyriac-de-Mer\\r\\n',\n",
    " \"5,43.03082,2.96508,#0aae0a,3 Route de Fraisse 11130 Sigean,McDonald's SIGEAN \\r\\n\",\n",
    " '6,43.12345,2.99078,#0aae0a,10 lot Village des Pêcheurs 11100 Bages,restaurant\\r\\n',\n",
    " '7,43.1689,2.98439,#0aae0a,Rue de Ratacas Zi de Plaisance 11100 Narbonne,Hotel-restaurant\\r\\n',\n",
    " '8,43.16344,2.87022,#0aae0a,16 r Paris 11200 Bizanet,restaurant\\r\\n',\n",
    " '9,43.18699,2.55961,#0aae0a,Aire des Corbieres 11700 Capendu,Autogrill Côté FranceRestaurant\\r\\n',\n",
    " '10,43.14753,2.7263,#0aae0a,16 pl République 11200 Ferrals-les-Corbières,restaurant\\r\\n',\n",
    " '11,43.21078,2.44362,#0aae0a,10 av Pierre Loti 11800 Trèbes,restaurant\\r\\n',\n",
    " '12,43.17359,2.3882,#0aae0a,Lo Moral 11570 Palaja,restaurant\\r\\n',\n",
    " '13,43.23934,2.22859,#0aae0a,19 r St Roch 11170 Villesèquelande,restaurant\\r\\n',\n",
    " '14,43.24321,2.1146,#0aae0a,28 av Gén de Gaulle 11150 Bram,restaurant\\r\\n',\n",
    " '15,43.2437,2.11649,#0aae0a,4 av Ernest Léotard 11150 Bram,pizza\\r\\n',\n",
    " '16,43.28,2.09081,#0aae0a,41 Bis bd Gambetta 11150 Villepinte,pizza']"
   ]
  },
  {
   "cell_type": "code",
   "execution_count": null,
   "id": "40bc0990",
   "metadata": {},
   "outputs": [],
   "source": []
  },
  {
   "cell_type": "markdown",
   "id": "bottom-penguin",
   "metadata": {},
   "source": [
    ">3. Expliquer comment utiliser le contenu des 2 tables pour se restaurer tout en rechargeant le vehicule electrique.\n",
    "4. Donner la liste des descripteurs communs aux 2 fichiers.\n",
    "\n",
    "La fonction `coordonnees` suivante créé une table contenant les identifiants des stations qui ont (presque) les mêmes coordonnées GPS qu'un snack.\n",
    "\n",
    "Celle-ci retourne la liste des identifiants de ces stations.\n",
    "\n",
    ">5. A l'aide de cette fonction, vérifier s'il existe des stations qui ont un snack."
   ]
  },
  {
   "cell_type": "code",
   "execution_count": null,
   "id": "awful-christopher",
   "metadata": {},
   "outputs": [],
   "source": [
    "def coordonnees(table1,table2):\n",
    "    \"\"\"retourne la liste table des identifiants de table1\n",
    "    tels que les coordonnées GPS sont communes avec l'un des éléments \n",
    "    de table2\n",
    "    \"\"\"\n",
    "    table = []\n",
    "    for station in stations[1:]:\n",
    "        for snack in snacks[1:]:\n",
    "            if abs(float(station[1]) - float(snack[1])) < 0.001 and abs(float(station[2]) - float(snack[2])) < 0.001:\n",
    "                table.append(station[0])\n",
    "    return table"
   ]
  },
  {
   "cell_type": "code",
   "execution_count": null,
   "id": "a1f885c9",
   "metadata": {},
   "outputs": [],
   "source": []
  },
  {
   "cell_type": "markdown",
   "id": "noted-graph",
   "metadata": {},
   "source": [
    ">6. Ecrire une fonction appelée `jointure`, qui prend 2 tables en paramètres, et retourne une nouvelle table issue de la fusion des 2 tables. Cette table fusionnée ne doit pas contenir 2 fois la même colonne. La table fusionnée doit mettre en correspondance, de manière pertinente, les lignes des 2 tables.\n",
    "7. Utiliser cette fonction pour créer une nouvelle table appelée `station_et_snack`, issue de la fusion des 2 tables."
   ]
  },
  {
   "cell_type": "code",
   "execution_count": null,
   "id": "mighty-habitat",
   "metadata": {},
   "outputs": [],
   "source": []
  },
  {
   "cell_type": "markdown",
   "id": "engaged-russell",
   "metadata": {},
   "source": [
    ">8. Afficher les marqueurs de cette liste sur la [carte](https://www.cahier-nsi.fr/livecsvmap2/)."
   ]
  },
  {
   "cell_type": "code",
   "execution_count": null,
   "id": "diverse-conflict",
   "metadata": {},
   "outputs": [],
   "source": []
  },
  {
   "cell_type": "code",
   "execution_count": null,
   "id": "handy-constraint",
   "metadata": {},
   "outputs": [],
   "source": []
  }
 ],
 "metadata": {
  "kernelspec": {
   "display_name": "Python 3",
   "language": "python",
   "name": "python3"
  },
  "language_info": {
   "codemirror_mode": {
    "name": "ipython",
    "version": 3
   },
   "file_extension": ".py",
   "mimetype": "text/x-python",
   "name": "python",
   "nbconvert_exporter": "python",
   "pygments_lexer": "ipython3",
   "version": "3.7.9"
  }
 },
 "nbformat": 4,
 "nbformat_minor": 5
}
