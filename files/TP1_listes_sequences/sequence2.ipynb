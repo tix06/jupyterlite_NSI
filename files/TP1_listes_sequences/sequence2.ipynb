{
 "cells": [
  {
   "cell_type": "markdown",
   "id": "aaf64cd8",
   "metadata": {},
   "source": [
    "# Dataframes, Listes et Dictionnaires\n",
    "## Données en liste\n",
    "On donne le contenu des cellules listes"
   ]
  },
  {
   "cell_type": "code",
   "execution_count": null,
   "id": "32ca84db",
   "metadata": {},
   "outputs": [],
   "source": [
    "salles_list = [['salle', 'horaire', 'titre'],\n",
    " [2, '15h00', 'le million'],\n",
    " [1, '18h00', 'la rage aux poings'],\n",
    " [4, '18h05', 'Le cercle rouge'],\n",
    " [3, '21h00', 'Rendez vous à Badenberg']]"
   ]
  },
  {
   "cell_type": "code",
   "execution_count": null,
   "id": "8711f317",
   "metadata": {},
   "outputs": [],
   "source": [
    "# la fonction selectionner retourne une liste avec les lignes de table\n",
    "# qui satisfont le critere\n",
    "def selectionner(table):\n",
    "    \"\"\"retourne la table selection \n",
    "    selon le booleen critere\n",
    "    :param table: list of list\n",
    "    \"\"\"\n",
    "    selection=[]\n",
    "    for ligne in table:\n",
    "        if critere(ligne):\n",
    "            selection.append(ligne[0])\n",
    "    return selection\n",
    "\n",
    "# la fonction critere retourne True si l'horaire est < 20h00\n",
    "def critere(ligne):\n",
    "    \"\"\"retourne un booleen\n",
    "    \"\"\"\n",
    "    h = ligne[1]\n",
    "    return h < '20h00'\n",
    "\n",
    "selectionner(salles_list[1:])"
   ]
  },
  {
   "cell_type": "code",
   "execution_count": null,
   "id": "a4e13811",
   "metadata": {},
   "outputs": [],
   "source": [
    "for ligne in salles_list[1:]:\n",
    "    print(critere(ligne))"
   ]
  },
  {
   "cell_type": "markdown",
   "id": "f5031317",
   "metadata": {},
   "source": [
    "## Données en dictionnaire\n",
    "\n",
    "remarquer que la difference principale entre list et dict vient de l'index. Par exemple, pour acceder à l'horaire du 1er film de la liste, on utilise un index:\n",
    "\n",
    "* numerique pour la liste : `salle_list[1][1]`\n",
    "* une clé pour le dictionnaire: `salles_dic[0]['horaire']` "
   ]
  },
  {
   "cell_type": "code",
   "execution_count": null,
   "id": "c28be7b8",
   "metadata": {},
   "outputs": [],
   "source": [
    "salles_dic = [{\"salle\": 2, 'horaire': '15h00', 'titre':'le million'},\n",
    "                {\"salle\": 1, 'horaire': '18h00', 'titre':'la rage aux poings'},\n",
    "                {\"salle\": 4, 'horaire': '18h05', 'titre':'Le cercle rouge'},\n",
    "                {\"salle\": 3, 'horaire': '21h00', 'titre':'Rendez vous à Badenberg'},\n",
    "                ]"
   ]
  },
  {
   "cell_type": "markdown",
   "id": "a3655cf5",
   "metadata": {},
   "source": [
    "On demande d'ecrire les fonctions critere et selection, qui comme pour les listes, sont telles que:\n",
    "\n",
    "```python\n",
    ">>> for ligne in salles_dic:\n",
    "    ..print(critere(ligne))\n",
    "True\n",
    "True\n",
    "True\n",
    "False\n",
    ">>> selectionner(salles_dic)\n",
    "[2, 1, 4]\n",
    "```\n"
   ]
  },
  {
   "cell_type": "code",
   "execution_count": null,
   "id": "e131b17b",
   "metadata": {},
   "outputs": [],
   "source": [
    "# la fonction selectionner retourne une liste avec les lignes de table\n",
    "# qui satisfont le critere\n",
    "def selectionner(table):\n",
    "    \"\"\"retourne la table selection \n",
    "    selon le booleen critere\n",
    "    :param table: list of dict\n",
    "    \"\"\"\n",
    "    selection=[]\n",
    "    for ligne in table:\n",
    "        if critere(ligne):\n",
    "            selection.append(ligne[\"salle\"])\n",
    "    return selection\n",
    "\n",
    "# la fonction critere retourne True si l'horaire est < 20h00\n",
    "def critere(ligne):\n",
    "    \"\"\"retourne un booleen\n",
    "    \"\"\"\n",
    "    h = ligne['horaire']\n",
    "    return h < '20h00'\n",
    "\n",
    "selectionner(salles_dic)"
   ]
  },
  {
   "cell_type": "code",
   "execution_count": null,
   "id": "18b0477c",
   "metadata": {},
   "outputs": [],
   "source": [
    "for ligne in salles_dic:\n",
    "    print(critere(ligne))"
   ]
  },
  {
   "cell_type": "markdown",
   "id": "1a5a0e85",
   "metadata": {},
   "source": [
    "## Données en Dataframe"
   ]
  },
  {
   "cell_type": "code",
   "execution_count": null,
   "id": "016a637c",
   "metadata": {},
   "outputs": [],
   "source": [
    "import pandas as pd  # on importe la librairie pandas \n",
    "\n",
    "salles_df = pd.DataFrame(salles_dic)\n",
    "#salles_df = pd.DataFrame(salles_list)\n",
    "# les 2 fonctionnent\n",
    "salles_df"
   ]
  },
  {
   "cell_type": "code",
   "execution_count": null,
   "id": "2cd4719f",
   "metadata": {},
   "outputs": [],
   "source": [
    "filtre = salles_df['horaire'] < '20h00'\n",
    "filtre"
   ]
  },
  {
   "cell_type": "code",
   "execution_count": null,
   "id": "aa6a64e4",
   "metadata": {},
   "outputs": [],
   "source": [
    "salles_df[filtre]"
   ]
  },
  {
   "cell_type": "markdown",
   "id": "0d5ee988",
   "metadata": {},
   "source": [
    "> *Exercice:* Trouver une salle qui diffuse le film 'Le cercle rouge', avant 20h00."
   ]
  },
  {
   "cell_type": "code",
   "execution_count": null,
   "id": "fe0028c0",
   "metadata": {},
   "outputs": [],
   "source": []
  },
  {
   "cell_type": "markdown",
   "id": "e274c47a",
   "metadata": {},
   "source": [
    "## Trier les éléments"
   ]
  },
  {
   "cell_type": "code",
   "execution_count": null,
   "id": "234adfa3",
   "metadata": {},
   "outputs": [],
   "source": [
    "salles_df.sort_values(by ='salle')"
   ]
  },
  {
   "cell_type": "markdown",
   "id": "f38d829d",
   "metadata": {},
   "source": []
  }
 ],
 "metadata": {
  "kernelspec": {
   "display_name": "Python 3",
   "language": "python",
   "name": "python3"
  },
  "language_info": {
   "codemirror_mode": {
    "name": "ipython",
    "version": 3
   },
   "file_extension": ".py",
   "mimetype": "text/x-python",
   "name": "python",
   "nbconvert_exporter": "python",
   "pygments_lexer": "ipython3",
   "version": "3.7.9"
  }
 },
 "nbformat": 4,
 "nbformat_minor": 5
}
